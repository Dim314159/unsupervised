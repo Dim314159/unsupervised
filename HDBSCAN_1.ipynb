{
  "cells": [
    {
      "cell_type": "code",
      "execution_count": 117,
      "metadata": {
        "id": "Qyu03gMd5qt4"
      },
      "outputs": [],
      "source": [
        "import torch\n",
        "import numpy as np\n",
        "\n",
        "import matplotlib.pyplot as plt\n",
        "import pandas as pd\n",
        "\n",
        "from collections import defaultdict\n",
        "import copy"
      ]
    },
    {
      "cell_type": "code",
      "execution_count": 118,
      "metadata": {
        "id": "XFYZGtm65qt5"
      },
      "outputs": [],
      "source": [
        "# cpu_gpu_device = torch.device('cuda' if torch.cuda.is_available() else 'cpu')\n",
        "# #cpu_gpu_device = torch.device('cpu')\n",
        "# print(f\"Using device: {cpu_gpu_device}\")"
      ]
    },
    {
      "cell_type": "code",
      "execution_count": 119,
      "metadata": {
        "id": "VGYxSe_I5qt6"
      },
      "outputs": [],
      "source": [
        "def print_dict(md):\n",
        "    for k, v in md.items():\n",
        "        print(f'{k} -> {v}')\n",
        "def print_cluster(cluster):\n",
        "    print(f'cluster_id: {cluster.cluster_id}')\n",
        "    print(f'size: {cluster.size}')\n",
        "    print(f'children: {len(cluster.children)}')\n",
        "    print(f'nodes_ids: {cluster.nodes_ids}')\n",
        "    print(f'lambda_birth: {cluster.lambda_birth}')\n",
        "    print(f'lambda_death: {cluster.lambda_death}')\n",
        "    print(f'nodes_lambdas: {cluster.nodes_lambdas}')\n",
        "    print(f'persistence: {cluster.persistence}')"
      ]
    },
    {
      "cell_type": "markdown",
      "metadata": {
        "id": "BKT0vyvO5qt6"
      },
      "source": [
        "# * MyHDBScan"
      ]
    },
    {
      "cell_type": "markdown",
      "metadata": {
        "id": "S_W-OuKB5qt7"
      },
      "source": [
        "## ** MST"
      ]
    },
    {
      "cell_type": "code",
      "execution_count": 120,
      "metadata": {
        "id": "sJyp25065qt7"
      },
      "outputs": [],
      "source": [
        "class MST:\n",
        "    def __init__(\n",
        "            self,\n",
        "            number_of_nearest_neighbors=5,\n",
        "            cpu_gpu_device='cpu',\n",
        "            ):\n",
        "        # number of nearest neighbors\n",
        "        self.k = number_of_nearest_neighbors\n",
        "        self.cpu_gpu_device = cpu_gpu_device\n",
        "\n",
        "    def mutual_reachability_distance(self, X):\n",
        "        \"\"\"\n",
        "        Compute the mutual reachability distance matrix using PyTorch and CUDA.\n",
        "        \"\"\"\n",
        "        X = torch.tensor(X, dtype=torch.float32, device=self.cpu_gpu_device)  # Move data to device\n",
        "        pairwise_dist = torch.cdist(X, X)  # Compute pairwise Euclidean distances\n",
        "        knn_distances, _ = torch.topk(pairwise_dist, self.k + 1, largest=False)  # k-NN distances\n",
        "        core_distances = knn_distances[:, -1].unsqueeze(1)  # Core distance is k-th neighbor\n",
        "\n",
        "        # Compute mutual reachability distance\n",
        "        mutual_dist_matrix = torch.max(pairwise_dist, core_distances)\n",
        "        self.mutual_dist_matrix = torch.max(mutual_dist_matrix, core_distances.T)\n",
        "\n",
        "    def minimum_spanning_tree(self):\n",
        "        \"\"\"\n",
        "        Compute the Minimum Spanning Tree using Kruskal’s algorithm in PyTorch.\n",
        "        \"\"\"\n",
        "        n = self.mutual_dist_matrix.shape[0]\n",
        "        triu_indices = torch.triu_indices(n, n, 1, device=self.cpu_gpu_device)  # Get upper-triangle indices\n",
        "        edge_weights = self.mutual_dist_matrix[triu_indices[0], triu_indices[1]]  # Extract edge weights\n",
        "        sorted_indices = torch.argsort(edge_weights)  # Sort edges by weight\n",
        "\n",
        "        parent = torch.arange(n, device=self.cpu_gpu_device)  # Union-Find structure\n",
        "\n",
        "        def find(x):\n",
        "            while parent[x] != x:\n",
        "                x = parent[x]\n",
        "            return x\n",
        "\n",
        "        self.mst_edges = []\n",
        "        for idx in sorted_indices:\n",
        "            u, v = triu_indices[:, idx]\n",
        "            root_u, root_v = find(u), find(v)\n",
        "\n",
        "            if root_u != root_v:  # No cycle condition\n",
        "                self.mst_edges.append((u.item(), v.item(), edge_weights[idx].item()))\n",
        "                parent[root_v] = root_u\n",
        "\n",
        "                if len(self.mst_edges) == n - 1:\n",
        "                    break\n",
        "\n",
        "    def get_mst_edges(self, X):\n",
        "        self.mutual_reachability_distance(X)\n",
        "        self.minimum_spanning_tree()\n",
        "        return self.mst_edges"
      ]
    },
    {
      "cell_type": "markdown",
      "metadata": {
        "id": "jhuw-C6_5qt8"
      },
      "source": [
        "## ** Clastering"
      ]
    },
    {
      "cell_type": "code",
      "execution_count": 121,
      "metadata": {
        "id": "89CGncyq5qt8"
      },
      "outputs": [],
      "source": [
        "class Cluster:\n",
        "    def __init__(\n",
        "        self,\n",
        "        cluster_id,\n",
        "        death_size,\n",
        "        size,\n",
        "        lambda_birth=None,\n",
        "        lambda_death=None,\n",
        "        children=None,\n",
        "        nodes_ids=None,\n",
        "        nodes_lambdas=None,\n",
        "        persistence=0,\n",
        "        is_singleton=False\n",
        "    ):\n",
        "        self.cluster_id = cluster_id\n",
        "\n",
        "        self.death_size = death_size\n",
        "        self.size = size\n",
        "        self.lambda_birth = lambda_birth\n",
        "        self.lambda_death = lambda_death\n",
        "        self.children = children if children is not None else []\n",
        "        self.nodes_ids = nodes_ids if nodes_ids is not None else []\n",
        "        self.nodes_lambdas = nodes_lambdas if nodes_lambdas is not None else []\n",
        "        self.persistence = persistence\n",
        "        self.is_singleton = is_singleton\n",
        "\n",
        "        self.is_noise = True\n",
        "\n",
        "class DisjointSet:\n",
        "    def __init__(self, n_points, min_cluster_size):\n",
        "        self.parents = list(range(n_points))\n",
        "        # For Union-Find optimization (tree height)\n",
        "        self.clusters_ranks = [0] * n_points\n",
        "\n",
        "        self.n_points = n_points\n",
        "        self.min_cluster_size = min_cluster_size or n_points\n",
        "\n",
        "        # Initialize singletons clusters\n",
        "        self.clusters_hierarchy = {}\n",
        "        for i in range(self.n_points):\n",
        "            self.clusters_hierarchy[i] = Cluster(\n",
        "                cluster_id=i,\n",
        "                death_size=0,\n",
        "                size=1,\n",
        "                nodes_ids=[i],\n",
        "                is_singleton=True\n",
        "            )\n",
        "\n",
        "        #self.debugging_history = []\n",
        "\n",
        "    def find(self, u):\n",
        "        if self.parents[u] != u:\n",
        "            self.parents[u] = self.find(self.parents[u])  # Path compression\n",
        "        return self.parents[u]\n",
        "\n",
        "    def union(self, root_u, root_v):\n",
        "        if self.clusters_ranks[root_u] < self.clusters_ranks[root_v]:\n",
        "            root_u, root_v = root_v, root_u\n",
        "        self.parents[root_v] = root_u\n",
        "        # Rank increases only if equal height\n",
        "        if self.clusters_ranks[root_u] == self.clusters_ranks[root_v]:\n",
        "            self.clusters_ranks[root_u] += 1\n",
        "        return root_u, root_v\n",
        "\n",
        "    def calculate_persistence(self, cluster):\n",
        "        \"\"\"\n",
        "        Calculate persistence for each cluster.\n",
        "        \"\"\"\n",
        "        if cluster.death_size:\n",
        "            delta_lambda = cluster.lambda_death - cluster.lambda_birth\n",
        "            # persistance of existing nodes\n",
        "            cluster.persistence += cluster.death_size * delta_lambda\n",
        "        # persistance of fall off nodes\n",
        "        if len(cluster.nodes_lambdas) > 0:\n",
        "            nodes_lambdas = np.array(cluster.nodes_lambdas)\n",
        "            cluster.persistence += np.sum(nodes_lambdas - cluster.lambda_birth)\n",
        "        cluster.nodes_lambdas = []\n",
        "\n",
        "    # Flatten hierarchy\n",
        "    def collapse_cluster(self, cluster):\n",
        "        self.calculate_persistence(cluster)\n",
        "        if cluster.children == []:\n",
        "            return  # Wait for parent comparison\n",
        "\n",
        "        children_persistence = sum(ch.persistence for ch in cluster.children)\n",
        "        # compare persistences\n",
        "        if cluster.persistence > children_persistence:\n",
        "            cluster.is_noise = False\n",
        "            clusters_to_delete = []\n",
        "            nodes_ids = []\n",
        "\n",
        "            def collect_nodes_and_ids(clust):\n",
        "                nonlocal nodes_ids # Required for extend\n",
        "                for ch in clust.children:\n",
        "                    collect_nodes_and_ids(ch)\n",
        "                    clusters_to_delete.append(ch.cluster_id)\n",
        "                nodes_ids.extend(clust.nodes_ids)\n",
        "\n",
        "            collect_nodes_and_ids(cluster)\n",
        "            cluster.nodes_ids = nodes_ids\n",
        "            cluster.children = []\n",
        "\n",
        "            # Delete after traversal\n",
        "            for cid in clusters_to_delete:\n",
        "                del self.clusters_hierarchy[cid]\n",
        "        else:\n",
        "            cluster.persistence = children_persistence\n",
        "            cluster.is_noise = True\n",
        "\n",
        "    # merge 2 singletons\n",
        "    def merge_the_singletons(self, cluster_u, cluster_v, lambda_val):\n",
        "        cluster_u.death_size = 0\n",
        "        cluster_u.size = 2\n",
        "        cluster_u.nodes_ids.extend(cluster_v.nodes_ids)\n",
        "        cluster_u.nodes_lambdas = [lambda_val, lambda_val]\n",
        "        cluster_u.is_singleton = False\n",
        "        del self.clusters_hierarchy[cluster_v.cluster_id]\n",
        "\n",
        "    # cluster_u absorbs cluster_v\n",
        "    def absorb_cluster(self, cluster_u, cluster_v):\n",
        "        cluster_u.size += cluster_v.size\n",
        "        if len(cluster_u.nodes_ids) >= self.min_cluster_size:\n",
        "            cluster_u.is_noise = False\n",
        "        cluster_u.nodes_ids.extend(cluster_v.nodes_ids)\n",
        "        cluster_u.nodes_lambdas.extend(cluster_v.nodes_lambdas)\n",
        "        del self.clusters_hierarchy[cluster_v.cluster_id]\n",
        "\n",
        "    # cluster_u and cluster_v merged into new cluster\n",
        "    def merge_clusters(self, cluster_u, cluster_v, lambda_val, cluster_id):\n",
        "        cluster_u.lambda_birth = lambda_val\n",
        "        self.collapse_cluster(cluster_u)\n",
        "\n",
        "        cluster_v.lambda_birth = lambda_val\n",
        "        self.collapse_cluster(cluster_v)\n",
        "\n",
        "        size = cluster_u.size + cluster_v.size\n",
        "        children = [cluster_u, cluster_v]\n",
        "\n",
        "        self.clusters_hierarchy[cluster_id] = Cluster(\n",
        "            cluster_id=cluster_id,\n",
        "            death_size=size,\n",
        "            size=size,\n",
        "            lambda_death=lambda_val,\n",
        "            children=children\n",
        "        )\n",
        "\n",
        "    def build_hierarchy(self, mst_edges):\n",
        "        \"\"\"\n",
        "        Build hierarchy from MST\n",
        "        Args:\n",
        "            mst_edges: List of [(u, v, distance), ...] sorted by increasing distance\n",
        "        \"\"\"\n",
        "        epsilon = 1e-10\n",
        "        # Initialize trackers\n",
        "        root_clusters_map = {i: i for i in range(self.n_points)}\n",
        "\n",
        "        # Start assigning new IDs after original points\n",
        "        cluster_id = self.n_points - 1\n",
        "        # Process MST edges in order of increasing distance\n",
        "        for u, v, distance in mst_edges:\n",
        "            # Lambda = inverse of distance\n",
        "            lambda_val = 1 / distance\n",
        "            #lambda_val = 1 / (distance + epsilon)\n",
        "            #lambda_val = -np.log(lambda_val + epsilon)\n",
        "            root_u, root_v = self.find(u), self.find(v)\n",
        "\n",
        "            # debug_dict = {\n",
        "            #     'u': u,\n",
        "            #     'v': v\n",
        "            # }\n",
        "\n",
        "            if root_u != root_v:\n",
        "                # Unite the clusters\n",
        "                root_u, root_v = self.union(root_u, root_v)\n",
        "                # Get the clusters\n",
        "                u_id = root_clusters_map[root_u]\n",
        "                cluster_u = self.clusters_hierarchy[u_id]\n",
        "                v_id = root_clusters_map[root_v]\n",
        "                cluster_v = self.clusters_hierarchy[v_id]\n",
        "                # debug_dict['u_id'] = u_id\n",
        "                # debug_dict['v_id'] = v_id\n",
        "                # debug_dict['u_nodes'] = copy.deepcopy(cluster_u.nodes_ids)\n",
        "                # debug_dict['v_nodes'] = copy.deepcopy(cluster_v.nodes_ids)\n",
        "                # Absorb or merge\n",
        "                if cluster_u.size < self.min_cluster_size or cluster_v.size < self.min_cluster_size:\n",
        "                    if cluster_u.is_singleton:\n",
        "                        # debug_dict['action'] = 'merge_the_singletons'\n",
        "\n",
        "                        self.merge_the_singletons(\n",
        "                            cluster_u=cluster_u,\n",
        "                            cluster_v=cluster_v,\n",
        "                            lambda_val=lambda_val\n",
        "                        )\n",
        "                        new_cluster_id = cluster_u.cluster_id\n",
        "\n",
        "                    else:\n",
        "                        # debug_dict['action'] = 'absorb'\n",
        "\n",
        "                        self.absorb_cluster(\n",
        "                            cluster_u=cluster_u,\n",
        "                            cluster_v=cluster_v\n",
        "                        )\n",
        "\n",
        "                        new_cluster_id = cluster_u.cluster_id\n",
        "\n",
        "                    # Update cluster map\n",
        "                    root_clusters_map[root_u] = cluster_u.cluster_id\n",
        "                else:\n",
        "                    # Increment cluster ID and update cluster map\n",
        "                    cluster_id += 1\n",
        "                    root_clusters_map[root_u] = cluster_id\n",
        "                    # Merge the clusters\n",
        "\n",
        "                    # debug_dict['action'] = 'merge'\n",
        "\n",
        "                    self.merge_clusters(\n",
        "                        cluster_u=cluster_u,\n",
        "                        cluster_v=cluster_v,\n",
        "                        lambda_val=lambda_val,\n",
        "                        cluster_id=cluster_id\n",
        "                    )\n",
        "                    new_cluster_id = cluster_id\n",
        "\n",
        "            new_cluster = self.clusters_hierarchy[new_cluster_id]\n",
        "\n",
        "            # debug_dict['nodes_ids'] = copy.deepcopy(new_cluster.nodes_ids)\n",
        "            # debug_dict['size'] = new_cluster.size\n",
        "            # debug_dict['cluster_id'] = new_cluster_id\n",
        "            # debug_dict['is_noise'] = new_cluster.is_noise\n",
        "\n",
        "            # debug_dict['final clusters'] = copy.deepcopy(self.final_clusters)\n",
        "            # self.debugging_history.append(debug_dict)\n",
        "\n",
        "        # root_cluster = self.clusters_hierarchy[root_id]\n",
        "        # root_cluster.lambda_birth = 0\n",
        "        # self.collapse_cluster(root_cluster)\n",
        "\n",
        "    def get_clusters_dict(self):\n",
        "        clusters_dict = {\n",
        "            -1: []\n",
        "        }\n",
        "        for cluster_id, cluster in self.clusters_hierarchy.items():\n",
        "            nodes_ids = cluster.nodes_ids\n",
        "            is_noise = cluster.is_noise\n",
        "            if is_noise:\n",
        "                clusters_dict[-1].extend(nodes_ids)\n",
        "            else:\n",
        "                clusters_dict[cluster.cluster_id] = nodes_ids\n",
        "        if len(clusters_dict[-1]) == 0:\n",
        "            del clusters_dict[-1]\n",
        "        return clusters_dict"
      ]
    },
    {
      "cell_type": "code",
      "execution_count": null,
      "metadata": {
        "id": "4a2Uscl65qt9"
      },
      "outputs": [],
      "source": []
    },
    {
      "cell_type": "markdown",
      "metadata": {
        "id": "y6MqJXjb5qt9"
      },
      "source": [
        "# * Tests"
      ]
    },
    {
      "cell_type": "code",
      "execution_count": null,
      "metadata": {
        "id": "kH7UyeW_5qt9",
        "colab": {
          "base_uri": "https://localhost:8080/",
          "height": 507
        },
        "outputId": "1156b6da-71d7-4417-af50-609fb643aa6c"
      },
      "outputs": [
        {
          "output_type": "display_data",
          "data": {
            "text/plain": [
              "<Figure size 1200x500 with 2 Axes>"
            ],
            "image/png": "[encoded data removed]"
          },
          "metadata": {}
        }
      ],
      "source": [
        "from sklearn.datasets import make_blobs, make_moons\n",
        "\n",
        "# Generate synthetic datasets\n",
        "blobs_data, blobs_labels = make_blobs(n_samples=300, centers=3, cluster_std=1.0, random_state=42)\n",
        "moons_data, moons_labels = make_moons(n_samples=300, noise=0.1, random_state=42)\n",
        "\n",
        "# Plotting\n",
        "fig, axs = plt.subplots(1, 2, figsize=(12, 5))\n",
        "\n",
        "# Blobs\n",
        "axs[0].scatter(blobs_data[:, 0], blobs_data[:, 1], c=blobs_labels, cmap='viridis', s=30)\n",
        "axs[0].set_title(\"Blobs Dataset\")\n",
        "\n",
        "# Moons\n",
        "axs[1].scatter(moons_data[:, 0], moons_data[:, 1], c=moons_labels, cmap='viridis', s=30)\n",
        "axs[1].set_title(\"Moons Dataset\")\n",
        "\n",
        "plt.tight_layout()\n",
        "plt.show()\n"
      ]
    },
    {
      "cell_type": "code",
      "source": [
        "\n",
        "# Create varying density blobs\n",
        "centers = [[-5, -2], [0, 0], [5, 5]]\n",
        "cluster_std = [0.5, 1.5, 0.2]  # different standard deviations for each cluster\n",
        "\n",
        "# Generate dataset\n",
        "varied_blobs_data, varied_blobs_labels = make_blobs(\n",
        "    n_samples=[100, 100, 100],\n",
        "    centers=centers,\n",
        "    cluster_std=cluster_std,\n",
        "    random_state=42\n",
        ")\n",
        "\n",
        "# Plot the dataset\n",
        "plt.figure(figsize=(6, 6))\n",
        "plt.scatter(varied_blobs_data[:, 0], varied_blobs_data[:, 1], c=varied_blobs_labels, cmap='viridis', s=30)\n",
        "plt.title(\"Blobs with Varying Densities\")\n",
        "plt.show()\n"
      ],
      "metadata": {
        "colab": {
          "base_uri": "https://localhost:8080/",
          "height": 545
        },
        "id": "3ahhfxHbOxbs",
        "outputId": "1e339c09-5bb2-4538-9638-0a51fbfa906a"
      },
      "execution_count": null,
      "outputs": [
        {
          "output_type": "display_data",
          "data": {
            "text/plain": [
              "<Figure size 600x600 with 1 Axes>"
            ],
            "image/png": "[encoded data removed]"
          },
          "metadata": {}
        }
      ]
    },
    {
      "cell_type": "markdown",
      "metadata": {
        "id": "amUWwcvC5qt-"
      },
      "source": [
        "## ** how to use"
      ]
    },
    {
      "cell_type": "code",
      "execution_count": null,
      "metadata": {
        "id": "blkA5qZM5qt-"
      },
      "outputs": [],
      "source": [
        "# X_train = blobs_data\n",
        "# X_train = moons_data\n",
        "X_train = varied_blobs_data\n",
        "n_points = X_train.shape[0]"
      ]
    },
    {
      "cell_type": "code",
      "execution_count": null,
      "metadata": {
        "id": "eAgbBqzN5qt-"
      },
      "outputs": [],
      "source": [
        "mst_agent = MST(number_of_nearest_neighbors=4)\n",
        "mst_edges = mst_agent.get_mst_edges(X_train)"
      ]
    },
    {
      "cell_type": "code",
      "execution_count": null,
      "metadata": {
        "id": "EHijN55T5qt-"
      },
      "outputs": [],
      "source": [
        "ds_agent = DisjointSet(\n",
        "    n_points=n_points,\n",
        "    min_cluster_size=5\n",
        ")"
      ]
    },
    {
      "cell_type": "code",
      "execution_count": null,
      "metadata": {
        "id": "5vwJj3Hg5qt_"
      },
      "outputs": [],
      "source": [
        "ds_agent.build_hierarchy(mst_edges)"
      ]
    },
    {
      "cell_type": "code",
      "execution_count": null,
      "metadata": {
        "id": "twrdsB9p5qt_",
        "outputId": "d0ced842-db0c-4997-f51d-1bc50c28bab7",
        "colab": {
          "base_uri": "https://localhost:8080/"
        }
      },
      "outputs": [
        {
          "output_type": "execute_result",
          "data": {
            "text/plain": [
              "[302, 307, 309, 310, 311]"
            ]
          },
          "metadata": {},
          "execution_count": 114
        }
      ],
      "source": [
        "cl_hier_keys = list(ds_agent.clusters_hierarchy.keys())\n",
        "cl_hier_keys"
      ]
    },
    {
      "cell_type": "code",
      "source": [
        "for ckey in cl_hier_keys:\n",
        "    cl = ds_agent.clusters_hierarchy[ckey]\n",
        "    print(ckey, cl.is_noise, cl.nodes_ids)\n"
      ],
      "metadata": {
        "colab": {
          "base_uri": "https://localhost:8080/"
        },
        "id": "zVQmIP4Lu449",
        "outputId": "2217de00-158a-4df0-ee53-e2f80620baa7"
      },
      "execution_count": null,
      "outputs": [
        {
          "output_type": "stream",
          "name": "stdout",
          "text": [
            "302 False [187, 287, 169, 118, 213, 267, 198, 173, 238, 236, 68, 14, 59, 211, 13, 251, 248, 44, 87, 170, 109, 259, 255, 108, 207, 77, 116, 190, 93, 200, 184, 292, 268, 146, 45, 48, 294, 6, 95, 176, 23, 49, 20, 133, 134, 226, 269, 210, 2, 84, 83, 250, 32, 34, 127, 28, 64, 153, 168, 166, 228, 52, 208, 26, 291, 192, 282, 242, 42, 279, 74, 66, 229, 69, 114, 75, 33, 174, 216, 159, 179, 138, 132, 223, 277, 217, 119, 56, 185, 103, 85, 293, 157, 21, 46, 247, 12, 221, 199, 206]\n",
            "307 False [149, 197, 183, 232, 101, 209, 86, 8, 290, 299, 11, 270, 79, 67, 22, 78, 39, 51, 165, 100, 262, 98, 88, 171, 129, 123, 167, 82, 124, 154, 222, 155, 81, 125, 272, 163, 107, 0, 130, 18, 220, 72, 121, 252, 126, 57, 191, 97, 263, 139, 1, 245, 15, 142, 4, 113, 158, 76, 244, 254, 62, 17, 136, 30, 35, 122, 162, 117, 104, 202, 296, 214, 271, 175, 5, 145, 193, 137, 92, 43, 194, 128, 105, 10, 219, 283, 144, 50, 181, 99, 256, 288, 203, 89, 161, 16, 7, 60, 164, 253, 286]\n",
            "309 False [227, 237, 80, 36, 280, 297, 102, 196, 231, 266, 180, 281, 264, 70, 160, 110, 230, 135, 96, 115, 289, 37, 156, 111, 151, 186, 258, 234, 61, 143, 58, 41, 40, 195, 212, 261, 260, 240, 25, 54, 47, 189, 177, 29, 276, 120, 265, 298, 249, 53, 295, 27, 3, 150, 224, 71, 188, 239, 9, 63, 233, 204, 55, 273, 19, 205, 225, 172, 201, 73, 284, 257, 275, 106, 182, 178, 241, 31, 38, 243, 147, 140, 94, 91, 285, 152]\n",
            "310 True [24, 90, 112, 141, 278, 274, 215, 65, 131, 148, 235, 246]\n",
            "311 True [218]\n"
          ]
        }
      ]
    },
    {
      "cell_type": "code",
      "source": [],
      "metadata": {
        "id": "mYayl82xll2e"
      },
      "execution_count": null,
      "outputs": []
    },
    {
      "cell_type": "code",
      "source": [
        "clusters_dict = ds_agent.get_clusters_dict()\n",
        "n_plots = len(clusters_dict) + 1\n",
        "fig, axis = plt.subplots(n_plots, 1, sharex=True, sharey=True, figsize=(6, n_plots * 3))\n",
        "x = X_train[:, 0]\n",
        "y = X_train[:, 1]\n",
        "axis[0].scatter(x, y)\n",
        "axis[0].set_title('Original Data')\n",
        "for i, (cid, nodes) in enumerate(clusters_dict.items()):\n",
        "    x = X_train[nodes, 0]\n",
        "    y = X_train[nodes, 1]\n",
        "    axis[i+1].scatter(x, y)\n",
        "    axis[i+1].set_title(f'Cluster {cid}')\n",
        "plt.show()"
      ],
      "metadata": {
        "colab": {
          "base_uri": "https://localhost:8080/",
          "height": 1000
        },
        "id": "pAKYk4WgllV9",
        "outputId": "156953ee-761c-44bc-9670-8f4a7e8aafea"
      },
      "execution_count": null,
      "outputs": [
        {
          "output_type": "display_data",
          "data": {
            "text/plain": [
              "<Figure size 600x1500 with 5 Axes>"
            ],
            "image/png": "[encoded data removed]"
          },
          "metadata": {}
        }
      ]
    },
    {
      "cell_type": "code",
      "source": [
        "# ds_agent.debugging_history"
      ],
      "metadata": {
        "id": "FIzZml5Ji-SE"
      },
      "execution_count": null,
      "outputs": []
    },
    {
      "cell_type": "code",
      "source": [],
      "metadata": {
        "id": "ta6CVeIZi-Me"
      },
      "execution_count": null,
      "outputs": []
    },
    {
      "cell_type": "code",
      "source": [],
      "metadata": {
        "id": "MPBhfMggi-EY"
      },
      "execution_count": null,
      "outputs": []
    },
    {
      "cell_type": "markdown",
      "source": [
        "# * HDBSCAN official"
      ],
      "metadata": {
        "id": "sUjxvN_CrY_j"
      }
    },
    {
      "cell_type": "code",
      "source": [
        "# Re-import after reset\n",
        "import hdbscan\n",
        "from sklearn.metrics import adjusted_rand_score\n",
        "\n",
        "# Generate the same varying-density blobs dataset\n",
        "centers = [[-5, -2], [0, 0], [5, 5]]\n",
        "cluster_std = [0.5, 1.5, 0.2]\n",
        "\n",
        "data, true_labels = make_blobs(\n",
        "    n_samples=[100, 100, 100],\n",
        "    centers=centers,\n",
        "    cluster_std=cluster_std,\n",
        "    random_state=42\n",
        ")\n",
        "\n",
        "# Run standard HDBSCAN\n",
        "hdbscan_labels = hdbscan.HDBSCAN(min_cluster_size=10).fit_predict(data)"
      ],
      "metadata": {
        "colab": {
          "base_uri": "https://localhost:8080/"
        },
        "id": "loDfrGdArYSX",
        "outputId": "7e3ab9e2-4318-45a1-edff-6a87a7a0c85c"
      },
      "execution_count": 122,
      "outputs": [
        {
          "output_type": "stream",
          "name": "stderr",
          "text": [
            "/usr/local/lib/python3.11/dist-packages/sklearn/utils/deprecation.py:151: FutureWarning: 'force_all_finite' was renamed to 'ensure_all_finite' in 1.6 and will be removed in 1.8.\n",
            "  warnings.warn(\n",
            "/usr/local/lib/python3.11/dist-packages/sklearn/utils/deprecation.py:151: FutureWarning: 'force_all_finite' was renamed to 'ensure_all_finite' in 1.6 and will be removed in 1.8.\n",
            "  warnings.warn(\n"
          ]
        },
        {
          "output_type": "execute_result",
          "data": {
            "text/plain": [
              "1.0"
            ]
          },
          "metadata": {},
          "execution_count": 122
        }
      ]
    },
    {
      "cell_type": "code",
      "source": [
        "X_train = data\n",
        "n_points = X_train.shape[0]\n",
        "\n",
        "mst_agent = MST(number_of_nearest_neighbors=4)\n",
        "mst_edges = mst_agent.get_mst_edges(X_train)\n",
        "\n",
        "\n",
        "ds_agent = DisjointSet(\n",
        "    n_points=n_points,\n",
        "    min_cluster_size=5\n",
        ")\n",
        "\n",
        "ds_agent.build_hierarchy(mst_edges)"
      ],
      "metadata": {
        "id": "NGN--NYwrYNP"
      },
      "execution_count": null,
      "outputs": []
    },
    {
      "cell_type": "code",
      "source": [
        "user_labels = []\n",
        "for i in range(n_points):\n",
        "    for cid, nodes in clusters_dict.items():\n",
        "        if i in nodes:\n",
        "            user_labels.append(cid)\n",
        "            break"
      ],
      "metadata": {
        "id": "rOsFVh73rYHd"
      },
      "execution_count": 128,
      "outputs": []
    },
    {
      "cell_type": "code",
      "source": [
        "ari_score = adjusted_rand_score(hdbscan_labels, user_labels)\n",
        "ari_score"
      ],
      "metadata": {
        "id": "0sLvdZB8i959",
        "colab": {
          "base_uri": "https://localhost:8080/"
        },
        "outputId": "f9cbe8fa-842d-4ad6-c3e8-61088a194568"
      },
      "execution_count": 129,
      "outputs": [
        {
          "output_type": "execute_result",
          "data": {
            "text/plain": [
              "0.975186916629837"
            ]
          },
          "metadata": {},
          "execution_count": 129
        }
      ]
    },
    {
      "cell_type": "code",
      "source": [],
      "metadata": {
        "id": "Ao-BPm2ctq-F"
      },
      "execution_count": null,
      "outputs": []
    },
    {
      "cell_type": "code",
      "source": [],
      "metadata": {
        "id": "NPLDd-yhtq7k"
      },
      "execution_count": null,
      "outputs": []
    },
    {
      "cell_type": "code",
      "source": [],
      "metadata": {
        "id": "M4l1V_dDtq4y"
      },
      "execution_count": null,
      "outputs": []
    },
    {
      "cell_type": "markdown",
      "source": [
        "# * Works"
      ],
      "metadata": {
        "id": "oN4LNTf_Q_lh"
      }
    },
    {
      "cell_type": "code",
      "source": [
        "# Generate synthetic toy dataset\n",
        "n_points, max_value = 65, 15\n",
        "q1 = (n_points - 1) // 4\n",
        "middle = q1 * 2\n",
        "q3 = q1 * 3\n",
        "\n",
        "slide = 60\n",
        "\n",
        "X_train = np.random.randint(max_value, size=(n_points, 2))  # points in 2D\n",
        "\n",
        "X_train[:middle, 0] += slide\n",
        "\n",
        "X_train[q1:q3, 1] += slide\n",
        "\n",
        "X_train[-1] += slide // 2\n",
        "X_train[0, 1] += slide // 2\n",
        "X_train[q1, 0] -= slide // 2\n",
        "X_train[middle, 1] -= slide // 2\n",
        "X_train[q3, 0] += slide // 2\n",
        "\n",
        "print(X_train.shape)\n",
        "x = X_train[:, 0]\n",
        "y = X_train[:, 1]\n",
        "plt.scatter(x, y)\n",
        "plt.show()"
      ],
      "metadata": {
        "id": "Ajn-iaevQ_Rb"
      },
      "execution_count": null,
      "outputs": []
    },
    {
      "cell_type": "markdown",
      "metadata": {
        "id": "HpdEsZDl5qt_"
      },
      "source": [
        "# * OLD"
      ]
    },
    {
      "cell_type": "code",
      "source": [
        "# working, likely redundand self.final_clusters = set()\n",
        "class Cluster:\n",
        "    def __init__(\n",
        "        self,\n",
        "        cluster_id,\n",
        "        death_size,\n",
        "        size,\n",
        "        lambda_birth=None,\n",
        "        lambda_death=None,\n",
        "        children=None,\n",
        "        nodes_ids=None,\n",
        "        nodes_lambdas=None,\n",
        "        persistence=0,\n",
        "        is_singleton=False\n",
        "    ):\n",
        "        self.cluster_id = cluster_id\n",
        "\n",
        "        self.death_size = death_size\n",
        "        self.size = size\n",
        "        self.lambda_birth = lambda_birth\n",
        "        self.lambda_death = lambda_death\n",
        "        self.children = children if children is not None else []\n",
        "        self.nodes_ids = nodes_ids if nodes_ids is not None else []\n",
        "        self.nodes_lambdas = nodes_lambdas if nodes_lambdas is not None else []\n",
        "        self.persistence = persistence\n",
        "        self.is_singleton = is_singleton\n",
        "\n",
        "        self.is_noise = True\n",
        "\n",
        "class DisjointSet:\n",
        "    def __init__(self, n_points, min_cluster_size):\n",
        "        self.parents = list(range(n_points))\n",
        "        # For Union-Find optimization (tree height)\n",
        "        self.clusters_ranks = [0] * n_points\n",
        "\n",
        "        self.n_points = n_points\n",
        "        self.min_cluster_size = min_cluster_size or n_points\n",
        "\n",
        "        # Initialize singletons clusters\n",
        "        self.clusters_hierarchy = {}\n",
        "        for i in range(self.n_points):\n",
        "            self.clusters_hierarchy[i] = Cluster(\n",
        "                cluster_id=i,\n",
        "                death_size=0,\n",
        "                size=1,\n",
        "                nodes_ids=[i],\n",
        "                is_singleton=True\n",
        "            )\n",
        "        # final clusters\n",
        "        self.final_clusters = set()\n",
        "\n",
        "        self.debugging_history = []\n",
        "\n",
        "    def find(self, u):\n",
        "        if self.parents[u] != u:\n",
        "            self.parents[u] = self.find(self.parents[u])  # Path compression\n",
        "        return self.parents[u]\n",
        "\n",
        "    def union(self, root_u, root_v):\n",
        "        if self.clusters_ranks[root_u] < self.clusters_ranks[root_v]:\n",
        "            root_u, root_v = root_v, root_u\n",
        "        self.parents[root_v] = root_u\n",
        "        # Rank increases only if equal height\n",
        "        if self.clusters_ranks[root_u] == self.clusters_ranks[root_v]:\n",
        "            self.clusters_ranks[root_u] += 1\n",
        "        return root_u, root_v\n",
        "\n",
        "    def calculate_persistence(self, cluster):\n",
        "        \"\"\"\n",
        "        Calculate persistence for each cluster.\n",
        "        \"\"\"\n",
        "        if cluster.death_size:\n",
        "            delta_lambda = cluster.lambda_death - cluster.lambda_birth\n",
        "            # persistance of existing nodes\n",
        "            cluster.persistence += cluster.death_size * delta_lambda\n",
        "        # persistance of fall off nodes\n",
        "        if len(cluster.nodes_lambdas) > 0:\n",
        "            nodes_lambdas = np.array(cluster.nodes_lambdas)\n",
        "            cluster.persistence += np.sum(nodes_lambdas - cluster.lambda_birth)\n",
        "        cluster.nodes_lambdas = []\n",
        "\n",
        "    # Flatten hierarchy\n",
        "    def collapse_cluster(self, cluster):\n",
        "        self.calculate_persistence(cluster)\n",
        "        if cluster.children == []:\n",
        "            return  # Wait for parent comparison\n",
        "\n",
        "        children_persistence = sum(ch.persistence for ch in cluster.children)\n",
        "        # compare persistences\n",
        "        if cluster.persistence > children_persistence:\n",
        "            cluster.is_noise = False\n",
        "            clusters_to_delete = []\n",
        "            nodes_ids = []\n",
        "\n",
        "            def collect_nodes_and_ids(clust):\n",
        "                nonlocal nodes_ids # Required for extend\n",
        "                for ch in clust.children:\n",
        "                    collect_nodes_and_ids(ch)\n",
        "                    clusters_to_delete.append(ch.cluster_id)\n",
        "                nodes_ids.extend(clust.nodes_ids)\n",
        "\n",
        "            collect_nodes_and_ids(cluster)\n",
        "            cluster.nodes_ids = nodes_ids\n",
        "            cluster.children = []\n",
        "\n",
        "            # Delete after traversal\n",
        "            for cid in clusters_to_delete:\n",
        "                del self.clusters_hierarchy[cid]\n",
        "                self.final_clusters.discard(cid)\n",
        "\n",
        "        else:\n",
        "            cluster.persistence = children_persistence\n",
        "            cluster.is_noise = True\n",
        "            self.final_clusters.discard(cluster.cluster_id)\n",
        "\n",
        "    # merge 2 singletons\n",
        "    def merge_the_singletons(self, cluster_u, cluster_v, lambda_val):\n",
        "        cluster_u.death_size = 0\n",
        "        cluster_u.size = 2\n",
        "        cluster_u.nodes_ids.extend(cluster_v.nodes_ids)\n",
        "        cluster_u.nodes_lambdas = [lambda_val, lambda_val]\n",
        "        cluster_u.is_singleton = False\n",
        "        del self.clusters_hierarchy[cluster_v.cluster_id]\n",
        "\n",
        "    # cluster_u absorbs cluster_v\n",
        "    def absorb_cluster(self, cluster_u, cluster_v):\n",
        "        cluster_u.size += cluster_v.size\n",
        "        if len(cluster_u.nodes_ids) >= self.min_cluster_size:\n",
        "            self.final_clusters.add(cluster_u.cluster_id)\n",
        "            cluster_u.is_noise = False\n",
        "        cluster_u.nodes_ids.extend(cluster_v.nodes_ids)\n",
        "        cluster_u.nodes_lambdas.extend(cluster_v.nodes_lambdas)\n",
        "        del self.clusters_hierarchy[cluster_v.cluster_id]\n",
        "\n",
        "    # cluster_u and cluster_v merged into new cluster\n",
        "    def merge_clusters(self, cluster_u, cluster_v, lambda_val, cluster_id):\n",
        "        cluster_u.lambda_birth = lambda_val\n",
        "        self.collapse_cluster(cluster_u)\n",
        "\n",
        "        cluster_v.lambda_birth = lambda_val\n",
        "        self.collapse_cluster(cluster_v)\n",
        "\n",
        "        size = cluster_u.size + cluster_v.size\n",
        "        children = [cluster_u, cluster_v]\n",
        "\n",
        "        self.clusters_hierarchy[cluster_id] = Cluster(\n",
        "            cluster_id=cluster_id,\n",
        "            death_size=size,\n",
        "            size=size,\n",
        "            lambda_death=lambda_val,\n",
        "            children=children\n",
        "        )\n",
        "        self.final_clusters.add(cluster_id)\n",
        "\n",
        "    def build_hierarchy(self, mst_edges):\n",
        "        \"\"\"\n",
        "        Build hierarchy from MST\n",
        "        Args:\n",
        "            mst_edges: List of [(u, v, distance), ...] sorted by increasing distance\n",
        "        \"\"\"\n",
        "        epsilon = 1e-10\n",
        "        # Initialize trackers\n",
        "        root_clusters_map = {i: i for i in range(self.n_points)}\n",
        "\n",
        "        # Start assigning new IDs after original points\n",
        "        cluster_id = self.n_points - 1\n",
        "        # Process MST edges in order of increasing distance\n",
        "        for u, v, distance in mst_edges:\n",
        "            # Lambda = inverse of distance\n",
        "            lambda_val = 1 / distance\n",
        "            #lambda_val = 1 / (distance + epsilon)\n",
        "            #lambda_val = -np.log(lambda_val + epsilon)\n",
        "            root_u, root_v = self.find(u), self.find(v)\n",
        "\n",
        "            debug_dict = {\n",
        "                'u': u,\n",
        "                'v': v\n",
        "            }\n",
        "\n",
        "            if root_u != root_v:\n",
        "                # Unite the clusters\n",
        "                root_u, root_v = self.union(root_u, root_v)\n",
        "                # Get the clusters\n",
        "                u_id = root_clusters_map[root_u]\n",
        "                cluster_u = self.clusters_hierarchy[u_id]\n",
        "                v_id = root_clusters_map[root_v]\n",
        "                cluster_v = self.clusters_hierarchy[v_id]\n",
        "                debug_dict['u_id'] = u_id\n",
        "                debug_dict['v_id'] = v_id\n",
        "                debug_dict['u_nodes'] = copy.deepcopy(cluster_u.nodes_ids)\n",
        "                debug_dict['v_nodes'] = copy.deepcopy(cluster_v.nodes_ids)\n",
        "                # Absorb or merge\n",
        "                if cluster_u.size < self.min_cluster_size or cluster_v.size < self.min_cluster_size:\n",
        "                    if cluster_u.is_singleton:\n",
        "                        debug_dict['action'] = 'merge_the_singletons'\n",
        "\n",
        "                        self.merge_the_singletons(\n",
        "                            cluster_u=cluster_u,\n",
        "                            cluster_v=cluster_v,\n",
        "                            lambda_val=lambda_val\n",
        "                        )\n",
        "                        new_cluster_id = cluster_u.cluster_id\n",
        "\n",
        "                    else:\n",
        "                        debug_dict['action'] = 'absorb'\n",
        "\n",
        "                        self.absorb_cluster(\n",
        "                            cluster_u=cluster_u,\n",
        "                            cluster_v=cluster_v\n",
        "                        )\n",
        "\n",
        "                        new_cluster_id = cluster_u.cluster_id\n",
        "\n",
        "                    # Update cluster map\n",
        "                    root_clusters_map[root_u] = cluster_u.cluster_id\n",
        "                else:\n",
        "                    # Increment cluster ID and update cluster map\n",
        "                    cluster_id += 1\n",
        "                    root_clusters_map[root_u] = cluster_id\n",
        "                    # Merge the clusters\n",
        "\n",
        "                    debug_dict['action'] = 'merge'\n",
        "\n",
        "                    self.merge_clusters(\n",
        "                        cluster_u=cluster_u,\n",
        "                        cluster_v=cluster_v,\n",
        "                        lambda_val=lambda_val,\n",
        "                        cluster_id=cluster_id\n",
        "                    )\n",
        "                    new_cluster_id = cluster_id\n",
        "\n",
        "                # # delete old cluster pointer\n",
        "                # del root_clusters_map[root_v]\n",
        "                # root_id = root_clusters_map[root_u]\n",
        "\n",
        "            new_cluster = self.clusters_hierarchy[new_cluster_id]\n",
        "\n",
        "            debug_dict['nodes_ids'] = copy.deepcopy(new_cluster.nodes_ids)\n",
        "            debug_dict['size'] = new_cluster.size\n",
        "            debug_dict['cluster_id'] = new_cluster_id\n",
        "            debug_dict['is_noise'] = new_cluster.is_noise\n",
        "\n",
        "            debug_dict['final clusters'] = copy.deepcopy(self.final_clusters)\n",
        "            self.debugging_history.append(debug_dict)\n",
        "\n",
        "        # root_cluster = self.clusters_hierarchy[root_id]\n",
        "        # root_cluster.lambda_birth = 0\n",
        "        # self.collapse_cluster(root_cluster)\n",
        "        self.final_clusters.discard(None)\n",
        "\n",
        "    def get_clusters_dict(self):\n",
        "        clusters_dict = {\n",
        "            -1: []\n",
        "        }\n",
        "        for cluster_id, cluster in self.clusters_hierarchy.items():\n",
        "            nodes_ids = cluster.nodes_ids\n",
        "            is_noise = cluster.is_noise\n",
        "            if is_noise:\n",
        "                clusters_dict[-1].extend(nodes_ids)\n",
        "            else:\n",
        "                clusters_dict[cluster.cluster_id] = nodes_ids\n",
        "        if len(clusters_dict[-1]) == 0:\n",
        "            del clusters_dict[-1]\n",
        "        return clusters_dict"
      ],
      "metadata": {
        "id": "vURK50IjinZH"
      },
      "execution_count": null,
      "outputs": []
    },
    {
      "cell_type": "code",
      "source": [],
      "metadata": {
        "id": "H4zzcYe8tiPB"
      },
      "execution_count": null,
      "outputs": []
    },
    {
      "cell_type": "code",
      "source": [
        "# ver 1\n",
        "class Cluster:\n",
        "    def __init__(\n",
        "            self,\n",
        "            size,\n",
        "            lambda_birth=None,\n",
        "            lambda_death=None,\n",
        "            children=[],\n",
        "            nodes=[],\n",
        "            persistence = 0,\n",
        "            is_node = False\n",
        "    ):\n",
        "        self.size = size\n",
        "        self.lambda_birth = lambda_birth\n",
        "        self.lambda_death = lambda_death\n",
        "        self.children = children\n",
        "        self.nodes = nodes\n",
        "        self.persistence = persistence\n",
        "        self.is_node = is_node\n",
        "\n",
        "class DisjointSet:\n",
        "    def __init__(self, n_points, min_cluster_size):\n",
        "        self.parents = list(range(n_points))\n",
        "        # For Union-Find optimization (tree height)\n",
        "        self.clusters_ranks = [0] * n_points\n",
        "        # Track size of each cluster\n",
        "        self.clusters_sizes = [1] * n_points\n",
        "\n",
        "        self.n_points = n_points\n",
        "        self.min_cluster_size = min_cluster_size\n",
        "\n",
        "        # Initialize singletons clusters\n",
        "        self.clusters = {}\n",
        "        for i in range(self.n_points):\n",
        "            self.clusters[i] = Cluster(\n",
        "                size=1,\n",
        "                nodes=[i],\n",
        "                is_node=True\n",
        "            )\n",
        "\n",
        "    def find(self, u):\n",
        "        if self.parents[u] != u:\n",
        "            self.parents[u] = self.find(self.parents[u])  # Path compression\n",
        "        return self.parents[u]\n",
        "\n",
        "    def union(self, root_u, root_v):\n",
        "        if self.clusters_ranks[root_u] < self.clusters_ranks[root_v]:\n",
        "            root_u, root_v = root_v, root_u\n",
        "        self.parents[root_v] = root_u\n",
        "        # Update size\n",
        "        self.clusters_sizes[root_u] += self.clusters_sizes[root_v]\n",
        "        # Rank increases only if equal height\n",
        "        if self.clusters_ranks[root_u] == self.clusters_ranks[root_v]:\n",
        "            self.clusters_ranks[root_u] += 1\n",
        "        return root_u\n",
        "\n",
        "    def build_hierarchy(self, mst_edges):\n",
        "        \"\"\"\n",
        "        Build hierarchy from MST\n",
        "        Args:\n",
        "            mst_edges: List of [(u, v, distance), ...] sorted by increasing distance\n",
        "        \"\"\"\n",
        "\n",
        "        # Initialize trackers\n",
        "        active_clusters = set(range(self.n_points))\n",
        "        root_clusters_map = {i: i for i in range(self.n_points)}\n",
        "\n",
        "        # Start assigning new IDs after original points\n",
        "        cluster_id = self.n_points - 1\n",
        "        # Process MST edges in order of increasing distance\n",
        "        for u, v, distance in mst_edges:\n",
        "            # increment cluster ID\n",
        "            cluster_id += 1\n",
        "            # Lambda = inverse of distance\n",
        "            lambda_val = 1 / distance\n",
        "            root_u, root_v = self.find(u), self.find(v)\n",
        "\n",
        "            if root_u != root_v:\n",
        "                children = []\n",
        "                for root in (root_u, root_v):\n",
        "                    active_clusters.discard(root)\n",
        "                    # Update children\n",
        "                    child_id = root_clusters_map[root]\n",
        "                    children.append(child_id)\n",
        "                    # update lambda_birth\n",
        "                    child_cluster = self.clusters[child_id]\n",
        "                    child_cluster.persistance = child_cluster.lambda_death - lambda_val\n",
        "\n",
        "\n",
        "                # Merge clusters\n",
        "                new_root = self.union(root_u, root_v)\n",
        "\n",
        "                active_clusters.add(new_root)\n",
        "                root_clusters_map[new_root] = cluster_id\n",
        "\n",
        "                self.clusters[cluster_id] = Cluster(\n",
        "                    size=self.clusters_sizes[new_root],\n",
        "                    lambda_death=lambda_val,\n",
        "                    children=children,\n",
        "                )\n",
        "\n",
        "        self.clusters[cluster_id].lambda_birth = 0\n",
        "\n",
        "    def condense_and_compute_persistence(self):\n",
        "        \"\"\"\n",
        "        Condense hierarchy and compute persistence for significant clusters.\n",
        "        \"\"\"\n",
        "        self.condensed_tree = []\n",
        "        self.persistence = {}\n",
        "        # Track clusters already processed for persistence\n",
        "\n",
        "        for event in self.merge_events:\n",
        "            cluster_size = event['size']\n",
        "\n",
        "            # Include in condensed tree if the new cluster is significant\n",
        "            if cluster_size >= self.min_cluster_size:\n",
        "                # Compute persistence only once per significant cluster\n",
        "                cluster_id = event['cluster_id']\n",
        "                # First birth when it becomes significant\n",
        "                lambda_birth = event['lambda_birth']\n",
        "                # Final death from clusters_lambdas\n",
        "                root = event['root']\n",
        "                lambda_death = self.clusters_lambdas[root][-1][1]\n",
        "                self.persistence[cluster_id] = lambda_birth - lambda_death\n",
        "                # add to condence tree\n",
        "                self.condensed_tree.append(event)\n",
        "\n",
        "    def select_clusters_eom(self):\n",
        "        \"\"\"\n",
        "        Select clusters using Excess of Mass method.\n",
        "\n",
        "        Returns:\n",
        "            selected_clusters: Set of cluster IDs in the final clustering\n",
        "        \"\"\"\n",
        "        selected_clusters = set()\n",
        "        cluster_children = {}  # Map parent to children\n",
        "\n",
        "        # Build parent-child relationships (reverse hierarchy)\n",
        "        for event in self.condensed_tree:\n",
        "            cluster_id = event['cluster_id']\n",
        "            cluster_children[cluster_id] = [event['left'], event['right']]\n",
        "\n",
        "        # Start from the root (last event's new_cluster)\n",
        "        root = self.condensed_tree[-1]['cluster_id'] if self.condensed_tree else None\n",
        "        if not root:\n",
        "            return selected_clusters\n",
        "\n",
        "        def evaluate_cluster(cl_id):\n",
        "            children = cluster_children.get(cl_id, [])\n",
        "            if not children:\n",
        "                if cl_id in self.persistence:\n",
        "                    selected_clusters.add(cl_id)\n",
        "                    return self.persistence.get(cl_id, 0)\n",
        "                return 0\n",
        "\n",
        "            my_persistence = self.persistence.get(cl_id, 0)\n",
        "            children_persistence = sum(evaluate_cluster(child) for child in children)\n",
        "            if my_persistence >= children_persistence:\n",
        "                selected_clusters.add(cl_id)\n",
        "                return my_persistence\n",
        "            return children_persistence  # Split into children\n",
        "\n",
        "        evaluate_cluster(root)\n",
        "        return selected_clusters"
      ],
      "metadata": {
        "id": "OCSdS59uOD5-"
      },
      "execution_count": null,
      "outputs": []
    },
    {
      "cell_type": "code",
      "source": [
        "    # Flatten hierarchy for parallelism\n",
        "    def collapse_cluster(self, cluster):\n",
        "        if cluster.cluster_persistence > cluster.children_persistence:\n",
        "            def collect_nodes_and_ids(clust):\n",
        "                nodes = clust.nodes\n",
        "                clusters_to_delete = []\n",
        "                for ch in clust.children:\n",
        "                    clusters_to_delete.append(ch.cluster_id)\n",
        "                    ch_nodes, ch_clusters = collect_nodes_and_ids(ch)\n",
        "                    nodes.extend(ch_nodes)\n",
        "                    clusters_to_delete.extend(ch_clusters)\n",
        "                return nodes, clusters_to_delete\n",
        "\n",
        "            nodes, clusters_to_delete = collect_nodes_and_ids(cluster)\n",
        "            cluster.nodes = nodes\n",
        "            cluster.children = []\n",
        "\n",
        "            for cid in clusters_to_delete:\n",
        "                del self.clusters_hierarchy[cid]\n",
        "\n",
        "# non recursive version\n",
        "from collections import deque\n",
        "\n",
        "def collapse_cluster(self, cluster):\n",
        "    if cluster.cluster_persistence > cluster.children_persistence:\n",
        "        clusters_to_delete = []\n",
        "        nodes = []\n",
        "\n",
        "        stack = deque([cluster])\n",
        "        while stack:\n",
        "            clust = stack.pop()\n",
        "            for ch in clust.children:\n",
        "                stack.append(ch)\n",
        "                clusters_to_delete.append(ch.cluster_id)\n",
        "            nodes.extend(clust.nodes)\n",
        "\n",
        "        cluster.nodes = nodes\n",
        "        cluster.children = []\n",
        "\n",
        "        for cid in clusters_to_delete:\n",
        "            del self.clusters_hierarchy[cid]"
      ],
      "metadata": {
        "id": "M1fehFnbOiGs"
      },
      "execution_count": null,
      "outputs": []
    },
    {
      "cell_type": "code",
      "source": [],
      "metadata": {
        "id": "-ZR-3KDAjI-H"
      },
      "execution_count": null,
      "outputs": []
    },
    {
      "cell_type": "markdown",
      "metadata": {
        "id": "ZDVi6wEq5qt_"
      },
      "source": [
        "## ** code"
      ]
    },
    {
      "cell_type": "code",
      "execution_count": null,
      "metadata": {
        "id": "4VaQPtCo5quA"
      },
      "outputs": [],
      "source": [
        "class MyHDBScan:\n",
        "    def __init__(\n",
        "            self,\n",
        "            cpu_gpu_device,\n",
        "            number_of_nearest_neighbors=5):\n",
        "        self.cpu_gpu_device = cpu_gpu_device\n",
        "        # number of nearest neighbors\n",
        "        self.k = number_of_nearest_neighbors\n",
        "\n",
        "    def mutual_reachability_distance(self, X):\n",
        "        \"\"\"\n",
        "        Compute the mutual reachability distance matrix using PyTorch and CUDA.\n",
        "        \"\"\"\n",
        "        X = torch.tensor(X, dtype=torch.float32, device='cuda')  # Move data to GPU\n",
        "        pairwise_dist = torch.cdist(X, X)  # Compute pairwise Euclidean distances\n",
        "        knn_distances, _ = torch.topk(pairwise_dist, self.k + 1, largest=False)  # k-NN distances\n",
        "        core_distances = knn_distances[:, -1].unsqueeze(1)  # Core distance is k-th neighbor\n",
        "\n",
        "        # Compute mutual reachability distance\n",
        "        mutual_dist_matrix = torch.max(pairwise_dist, core_distances)\n",
        "        self.mutual_dist_matrix = torch.max(mutual_dist_matrix, core_distances.T)\n",
        "\n",
        "    def minimum_spanning_tree(self):\n",
        "        \"\"\"\n",
        "        Compute the Minimum Spanning Tree using Kruskal’s algorithm in PyTorch.\n",
        "        \"\"\"\n",
        "        n = self.mutual_dist_matrix.shape[0]\n",
        "        triu_indices = torch.triu_indices(n, n, 1, device=self.cpu_gpu_device)  # Get upper-triangle indices\n",
        "        edge_weights = self.mutual_dist_matrix[triu_indices[0], triu_indices[1]]  # Extract edge weights\n",
        "        sorted_indices = torch.argsort(edge_weights)  # Sort edges by weight\n",
        "\n",
        "        parent = torch.arange(n, device=self.cpu_gpu_device)  # Union-Find structure\n",
        "\n",
        "        def find(x):\n",
        "            while parent[x] != x:\n",
        "                x = parent[x]\n",
        "            return x\n",
        "\n",
        "        self.mst_edges = []\n",
        "        for idx in sorted_indices:\n",
        "            u, v = triu_indices[:, idx]\n",
        "            root_u, root_v = find(u), find(v)\n",
        "\n",
        "            if root_u != root_v:  # No cycle condition\n",
        "                self.mst_edges.append((u.item(), v.item(), edge_weights[idx].item()))\n",
        "                parent[root_v] = root_u\n",
        "\n",
        "                if len(self.mst_edges) == n - 1:\n",
        "                    break\n"
      ]
    },
    {
      "cell_type": "code",
      "execution_count": null,
      "metadata": {
        "id": "_uzaJtg95quA"
      },
      "outputs": [],
      "source": []
    },
    {
      "cell_type": "code",
      "execution_count": null,
      "metadata": {
        "id": "HfRz7hK45quA"
      },
      "outputs": [],
      "source": []
    },
    {
      "cell_type": "code",
      "execution_count": null,
      "metadata": {
        "id": "wrxwo7uJ5quA"
      },
      "outputs": [],
      "source": [
        "def mutual_reachability_distance(X, k=5):\n",
        "    \"\"\"\n",
        "    Compute the mutual reachability distance matrix using PyTorch and CUDA.\n",
        "    \"\"\"\n",
        "    X = torch.tensor(X, dtype=torch.float32, device='cuda')  # Move data to GPU\n",
        "    pairwise_dist = torch.cdist(X, X)  # Compute pairwise Euclidean distances\n",
        "    knn_distances, _ = torch.topk(pairwise_dist, k + 1, largest=False)  # k-NN distances\n",
        "    core_distances = knn_distances[:, -1].unsqueeze(1)  # Core distance is k-th neighbor\n",
        "\n",
        "    # Compute mutual reachability distance\n",
        "    mutual_dist = torch.max(pairwise_dist, core_distances)\n",
        "    mutual_dist = torch.max(mutual_dist, core_distances.T)\n",
        "\n",
        "    return mutual_dist\n"
      ]
    },
    {
      "cell_type": "code",
      "execution_count": null,
      "metadata": {
        "id": "yefMJCJv5quA"
      },
      "outputs": [],
      "source": [
        "def minimum_spanning_tree(dist_matrix):\n",
        "    \"\"\"\n",
        "    Compute the Minimum Spanning Tree using Kruskal’s algorithm in PyTorch.\n",
        "    \"\"\"\n",
        "    n = dist_matrix.shape[0]\n",
        "    triu_indices = torch.triu_indices(n, n, 1, device='cuda')  # Get upper-triangle indices\n",
        "    edge_weights = dist_matrix[triu_indices[0], triu_indices[1]]  # Extract edge weights\n",
        "    sorted_indices = torch.argsort(edge_weights)  # Sort edges by weight\n",
        "\n",
        "    parent = torch.arange(n, device='cuda')  # Union-Find structure\n",
        "\n",
        "    def find(x):\n",
        "        while parent[x] != x:\n",
        "            x = parent[x]\n",
        "        return x\n",
        "\n",
        "    mst_edges = []\n",
        "    for idx in sorted_indices:\n",
        "        u, v = triu_indices[:, idx]\n",
        "        root_u, root_v = find(u), find(v)\n",
        "\n",
        "        if root_u != root_v:  # No cycle condition\n",
        "            mst_edges.append((u.item(), v.item(), edge_weights[idx].item()))\n",
        "            parent[root_v] = root_u\n",
        "\n",
        "        if len(mst_edges) == n - 1:\n",
        "            break\n",
        "\n",
        "    return mst_edges\n"
      ]
    },
    {
      "cell_type": "code",
      "execution_count": null,
      "metadata": {
        "id": "0692Hdei5quA"
      },
      "outputs": [],
      "source": [
        "def hierarchical_clustering(mst_edges, min_cluster_size=10):\n",
        "    \"\"\"\n",
        "    Perform bottom-up hierarchical clustering using the MST.\n",
        "    \"\"\"\n",
        "    # Step 1: Initialize clusters\n",
        "    clusters = {i: {i} for i in range(len(mst_edges) + 1)}\n",
        "\n",
        "    # Step 2: Merge all nodes into one large cluster\n",
        "    for u, v, _ in mst_edges:\n",
        "        clusters[u].update(clusters[v])\n",
        "        clusters[v] = clusters[u]\n",
        "\n",
        "    # Step 3: Remove the heaviest edges step by step\n",
        "    for u, v, weight in reversed(mst_edges):  # Start from largest weight\n",
        "        # Remove connection\n",
        "        clusters[u].remove(v)\n",
        "        clusters[v].remove(u)\n",
        "\n",
        "        # Extract unique clusters\n",
        "        unique_clusters = set(map(tuple, clusters.values()))\n",
        "\n",
        "        # Keep only valid clusters\n",
        "        valid_clusters = [c for c in unique_clusters if len(c) >= min_cluster_size]\n",
        "\n",
        "        # Stop if further splitting would make invalid clusters\n",
        "        if len(valid_clusters) == len(unique_clusters):\n",
        "            break\n",
        "\n",
        "    # Step 4: Convert clusters to sets\n",
        "    final_clusters = [set(c) for c in valid_clusters]\n",
        "\n",
        "    return final_clusters\n"
      ]
    },
    {
      "cell_type": "code",
      "execution_count": null,
      "metadata": {
        "id": "pxZqNvlD5quA"
      },
      "outputs": [],
      "source": [
        "def extract_clusters(clusters):\n",
        "    \"\"\"\n",
        "    Convert hierarchical clusters into final labeled clusters.\n",
        "    \"\"\"\n",
        "    cluster_labels = torch.full((len(clusters),), -1, dtype=torch.int, device='cuda')  # Default label -1 (noise)\n",
        "    cluster_id = 0\n",
        "    for cluster in clusters.values():\n",
        "        for idx in cluster:\n",
        "            cluster_labels[idx] = cluster_id\n",
        "        cluster_id += 1\n",
        "    return cluster_labels\n"
      ]
    },
    {
      "cell_type": "code",
      "execution_count": null,
      "metadata": {
        "id": "Mrw14Ovb5quA"
      },
      "outputs": [],
      "source": [
        "# Generate synthetic dataset\n",
        "import numpy as np\n",
        "X_train = np.random.rand(1000, 2)  # 1000 points in 2D\n",
        "\n",
        "# Run HDBSCAN on GPU\n",
        "dist_matrix = mutual_reachability_distance(X_train, k=5)\n",
        "mst_edges = minimum_spanning_tree(dist_matrix)\n",
        "clusters = hierarchical_clustering(mst_edges, min_cluster_size=10)\n",
        "cluster_labels = extract_clusters(clusters)\n",
        "\n",
        "# Transfer cluster labels back to CPU\n",
        "cluster_labels = cluster_labels.cpu().numpy()\n",
        "\n",
        "print(\"Cluster assignments:\", np.unique(cluster_labels))\n",
        "\n"
      ]
    },
    {
      "cell_type": "code",
      "execution_count": null,
      "metadata": {
        "id": "Ffzjj_dj5quA"
      },
      "outputs": [],
      "source": []
    },
    {
      "cell_type": "markdown",
      "metadata": {
        "id": "btoBmIai5quA"
      },
      "source": [
        "## ** calculations"
      ]
    },
    {
      "cell_type": "code",
      "execution_count": null,
      "metadata": {
        "id": "PMCSkaZ35quA",
        "outputId": "d99f47b3-cf0a-42e9-c435-3f89835edd97"
      },
      "outputs": [
        {
          "data": {
            "text/plain": [
              "(30, 2)"
            ]
          },
          "execution_count": 265,
          "metadata": {},
          "output_type": "execute_result"
        }
      ],
      "source": [
        "# Generate synthetic dataset\n",
        "n_points, max_value = 30, 15\n",
        "X_train = np.random.randint(max_value, size=(n_points, 2))  # points in 2D\n",
        "X_train.shape"
      ]
    },
    {
      "cell_type": "code",
      "execution_count": null,
      "metadata": {
        "id": "IorJotLD5quB"
      },
      "outputs": [],
      "source": [
        "#np.random.seed(seed)\n",
        "n_clusters = 2\n",
        "points_per_cluster = n_points // n_clusters\n",
        "remainder = n_points % n_clusters\n",
        "\n",
        "X_train = []\n",
        "for i in range(n_clusters):\n",
        "    # Random cluster center\n",
        "    center = np.random.uniform(-10, 10, size=2)\n",
        "    # Random spread (standard deviation)\n",
        "    sigma = np.random.uniform(0.5, 2.0)\n",
        "    # Number of points in this cluster\n",
        "    n = points_per_cluster + (1 if i < remainder else 0)\n",
        "    # Generate points around center with Gaussian noise\n",
        "    cluster_points = np.random.normal(loc=center, scale=sigma, size=(n, 2))\n",
        "    X.append(cluster_points)\n",
        "\n",
        "# Concatenate all clusters\n",
        "X_train = np.vstack(X_train)"
      ]
    },
    {
      "cell_type": "code",
      "execution_count": null,
      "metadata": {
        "id": "DpyjfNh65quB",
        "outputId": "a23830b6-7c9f-4b0f-cf28-db0c07de2d0c"
      },
      "outputs": [
        {
          "data": {
            "text/plain": [
              "(336, 2)"
            ]
          },
          "execution_count": 316,
          "metadata": {},
          "output_type": "execute_result"
        }
      ],
      "source": [
        "data = pd.read_csv('data_clust_test.csv')\n",
        "X_train = data[['x', 'y']].values\n",
        "n_points = X_train.shape[0]\n",
        "X_train.shape"
      ]
    },
    {
      "cell_type": "markdown",
      "metadata": {
        "id": "8fZi4LyZ5quB"
      },
      "source": [
        "## ** MST"
      ]
    },
    {
      "cell_type": "code",
      "execution_count": null,
      "metadata": {
        "id": "cn0fcDW35quB"
      },
      "outputs": [],
      "source": [
        "k = 3\n",
        "min_cluster_size=4"
      ]
    },
    {
      "cell_type": "code",
      "execution_count": null,
      "metadata": {
        "id": "63QeLMzC5quC",
        "outputId": "b67c7952-02bd-406f-fd23-5b48ef74c3fe"
      },
      "outputs": [
        {
          "data": {
            "text/plain": [
              "array([[7, 0],\n",
              "       [6, 4],\n",
              "       [5, 2],\n",
              "       [8, 0],\n",
              "       [2, 4],\n",
              "       [9, 0],\n",
              "       [9, 7],\n",
              "       [2, 4],\n",
              "       [0, 6],\n",
              "       [7, 7]], dtype=int32)"
            ]
          },
          "execution_count": 70,
          "metadata": {},
          "output_type": "execute_result"
        }
      ],
      "source": [
        "# Generate synthetic dataset\n",
        "X_train = np.random.randint(10, size=(10, 2))  # 1000 points in 2D\n",
        "X_train"
      ]
    },
    {
      "cell_type": "code",
      "execution_count": null,
      "metadata": {
        "id": "ocPlHje55quC",
        "outputId": "df990b5b-f31a-4713-aa87-ed09df583e92",
        "colab": {
          "base_uri": "https://localhost:8080/"
        }
      },
      "outputs": [
        {
          "output_type": "execute_result",
          "data": {
            "text/plain": [
              "tensor([[0.0000, 1.0000, 1.5000, 2.0000, 3.0000, 7.0000, 7.0711, 7.2801, 7.4330,\n",
              "         7.6158],\n",
              "        [1.0000, 0.0000, 0.5000, 1.0000, 2.0000, 7.0711, 7.0000, 7.0711, 7.1589,\n",
              "         7.2801],\n",
              "        [1.5000, 0.5000, 0.0000, 0.5000, 1.5000, 7.1589, 7.0178, 7.0178, 7.0711,\n",
              "         7.1589],\n",
              "        [2.0000, 1.0000, 0.5000, 0.0000, 1.0000, 7.2801, 7.0711, 7.0000, 7.0178,\n",
              "         7.0711],\n",
              "        [3.0000, 2.0000, 1.5000, 1.0000, 0.0000, 7.6158, 7.2801, 7.0711, 7.0178,\n",
              "         7.0000],\n",
              "        [7.0000, 7.0711, 7.1589, 7.2801, 7.6158, 0.0000, 1.0000, 2.0000, 2.5000,\n",
              "         3.0000],\n",
              "        [7.0711, 7.0000, 7.0178, 7.0711, 7.2801, 1.0000, 0.0000, 1.0000, 1.5000,\n",
              "         2.0000],\n",
              "        [7.2801, 7.0711, 7.0178, 7.0000, 7.0711, 2.0000, 1.0000, 0.0000, 0.5000,\n",
              "         1.0000],\n",
              "        [7.4330, 7.1589, 7.0711, 7.0178, 7.0178, 2.5000, 1.5000, 0.5000, 0.0000,\n",
              "         0.5000],\n",
              "        [7.6158, 7.2801, 7.1589, 7.0711, 7.0000, 3.0000, 2.0000, 1.0000, 0.5000,\n",
              "         0.0000]])"
            ]
          },
          "metadata": {},
          "execution_count": 41
        }
      ],
      "source": [
        "X = torch.tensor(X_train, dtype=torch.float32, device='cpu')  # Move data to GPU\n",
        "pairwise_dist = torch.cdist(X, X)  # Compute pairwise Euclidean distances\n",
        "pairwise_dist"
      ]
    },
    {
      "cell_type": "code",
      "execution_count": null,
      "metadata": {
        "id": "gnlh0hfH5quC",
        "outputId": "c578bda0-9077-43a4-e499-a8d9416a27b4"
      },
      "outputs": [
        {
          "data": {
            "text/plain": [
              "tensor([[0.0000, 1.0000, 2.0000, 2.8284],\n",
              "        [0.0000, 2.2361, 3.1623, 4.0000],\n",
              "        [0.0000, 2.2361, 2.8284, 3.6056],\n",
              "        [0.0000, 1.0000, 1.0000, 3.6056],\n",
              "        [0.0000, 0.0000, 2.8284, 3.6056],\n",
              "        [0.0000, 1.0000, 2.0000, 4.4721],\n",
              "        [0.0000, 2.0000, 4.2426, 6.4031],\n",
              "        [0.0000, 0.0000, 2.8284, 3.6056],\n",
              "        [0.0000, 2.8284, 2.8284, 6.3246],\n",
              "        [0.0000, 2.0000, 3.1623, 5.3852]], device='cuda:0')"
            ]
          },
          "execution_count": 72,
          "metadata": {},
          "output_type": "execute_result"
        }
      ],
      "source": [
        "knn_distances, _ = torch.topk(pairwise_dist, k + 1, largest=False)  # k-NN distances\n",
        "knn_distances"
      ]
    },
    {
      "cell_type": "code",
      "execution_count": null,
      "metadata": {
        "id": "Gdj3lLfx5quC",
        "outputId": "3960ebba-facc-41ca-d601-e53e08cf744c"
      },
      "outputs": [
        {
          "data": {
            "text/plain": [
              "tensor([[2.8284],\n",
              "        [4.0000],\n",
              "        [3.6056],\n",
              "        [3.6056],\n",
              "        [3.6056],\n",
              "        [4.4721],\n",
              "        [6.4031],\n",
              "        [3.6056],\n",
              "        [6.3246],\n",
              "        [5.3852]], device='cuda:0')"
            ]
          },
          "execution_count": 73,
          "metadata": {},
          "output_type": "execute_result"
        }
      ],
      "source": [
        "core_distances = knn_distances[:, -1].unsqueeze(1)  # Core distance is k-th neighbor\n",
        "core_distances"
      ]
    },
    {
      "cell_type": "code",
      "execution_count": null,
      "metadata": {
        "id": "adBtBdNA5quC",
        "outputId": "a829761d-739f-4fe7-f02c-275a745cd7fc"
      },
      "outputs": [
        {
          "data": {
            "text/plain": [
              "tensor([[ 2.8284,  4.1231,  2.8284,  2.8284,  6.4031,  2.8284,  7.2801,  6.4031,\n",
              "          9.2195,  7.0000],\n",
              "        [ 4.1231,  4.0000,  4.0000,  4.4721,  4.0000,  5.0000,  4.2426,  4.0000,\n",
              "          6.3246,  4.0000],\n",
              "        [ 3.6056,  3.6056,  3.6056,  3.6056,  3.6056,  4.4721,  6.4031,  3.6056,\n",
              "          6.4031,  5.3852],\n",
              "        [ 3.6056,  4.4721,  3.6056,  3.6056,  7.2111,  3.6056,  7.0711,  7.2111,\n",
              "         10.0000,  7.0711],\n",
              "        [ 6.4031,  4.0000,  3.6056,  7.2111,  3.6056,  8.0623,  7.6158,  3.6056,\n",
              "          3.6056,  5.8310],\n",
              "        [ 4.4721,  5.0000,  4.4721,  4.4721,  8.0623,  4.4721,  7.0000,  8.0623,\n",
              "         10.8167,  7.2801],\n",
              "        [ 7.2801,  6.4031,  6.4031,  7.0711,  7.6158,  7.0000,  6.4031,  7.6158,\n",
              "          9.0554,  6.4031],\n",
              "        [ 6.4031,  4.0000,  3.6056,  7.2111,  3.6056,  8.0623,  7.6158,  3.6056,\n",
              "          3.6056,  5.8310],\n",
              "        [ 9.2195,  6.3246,  6.4031, 10.0000,  6.3246, 10.8167,  9.0554,  6.3246,\n",
              "          6.3246,  7.0711],\n",
              "        [ 7.0000,  5.3852,  5.3852,  7.0711,  5.8310,  7.2801,  5.3852,  5.8310,\n",
              "          7.0711,  5.3852]], device='cuda:0')"
            ]
          },
          "execution_count": 74,
          "metadata": {},
          "output_type": "execute_result"
        }
      ],
      "source": [
        "mutual_dist = torch.max(pairwise_dist, core_distances)\n",
        "mutual_dist"
      ]
    },
    {
      "cell_type": "code",
      "execution_count": null,
      "metadata": {
        "id": "l7u_3y_u5quD",
        "outputId": "52837a36-05f8-4c7c-e4ab-a81f9359ff0f"
      },
      "outputs": [
        {
          "data": {
            "text/plain": [
              "tensor([[ 2.8284,  4.1231,  3.6056,  3.6056,  6.4031,  4.4721,  7.2801,  6.4031,\n",
              "          9.2195,  7.0000],\n",
              "        [ 4.1231,  4.0000,  4.0000,  4.4721,  4.0000,  5.0000,  6.4031,  4.0000,\n",
              "          6.3246,  5.3852],\n",
              "        [ 3.6056,  4.0000,  3.6056,  3.6056,  3.6056,  4.4721,  6.4031,  3.6056,\n",
              "          6.4031,  5.3852],\n",
              "        [ 3.6056,  4.4721,  3.6056,  3.6056,  7.2111,  4.4721,  7.0711,  7.2111,\n",
              "         10.0000,  7.0711],\n",
              "        [ 6.4031,  4.0000,  3.6056,  7.2111,  3.6056,  8.0623,  7.6158,  3.6056,\n",
              "          6.3246,  5.8310],\n",
              "        [ 4.4721,  5.0000,  4.4721,  4.4721,  8.0623,  4.4721,  7.0000,  8.0623,\n",
              "         10.8167,  7.2801],\n",
              "        [ 7.2801,  6.4031,  6.4031,  7.0711,  7.6158,  7.0000,  6.4031,  7.6158,\n",
              "          9.0554,  6.4031],\n",
              "        [ 6.4031,  4.0000,  3.6056,  7.2111,  3.6056,  8.0623,  7.6158,  3.6056,\n",
              "          6.3246,  5.8310],\n",
              "        [ 9.2195,  6.3246,  6.4031, 10.0000,  6.3246, 10.8167,  9.0554,  6.3246,\n",
              "          6.3246,  7.0711],\n",
              "        [ 7.0000,  5.3852,  5.3852,  7.0711,  5.8310,  7.2801,  6.4031,  5.8310,\n",
              "          7.0711,  5.3852]], device='cuda:0')"
            ]
          },
          "execution_count": 75,
          "metadata": {},
          "output_type": "execute_result"
        }
      ],
      "source": [
        "# Compute mutual reachability distance\n",
        "dist_matrix = torch.max(mutual_dist, core_distances.T)\n",
        "dist_matrix"
      ]
    },
    {
      "cell_type": "code",
      "execution_count": null,
      "metadata": {
        "id": "Kx0ZWqIW5quD",
        "outputId": "3f5957e9-cc3f-4897-ad2f-2a245ddc14fb"
      },
      "outputs": [
        {
          "data": {
            "text/plain": [
              "tensor([[0, 0, 0, 0, 0, 0, 0, 0, 0, 1, 1, 1, 1, 1, 1, 1, 1, 2, 2, 2, 2, 2, 2, 2,\n",
              "         3, 3, 3, 3, 3, 3, 4, 4, 4, 4, 4, 5, 5, 5, 5, 6, 6, 6, 7, 7, 8],\n",
              "        [1, 2, 3, 4, 5, 6, 7, 8, 9, 2, 3, 4, 5, 6, 7, 8, 9, 3, 4, 5, 6, 7, 8, 9,\n",
              "         4, 5, 6, 7, 8, 9, 5, 6, 7, 8, 9, 6, 7, 8, 9, 7, 8, 9, 8, 9, 9]],\n",
              "       device='cuda:0')"
            ]
          },
          "execution_count": 76,
          "metadata": {},
          "output_type": "execute_result"
        }
      ],
      "source": [
        "\"\"\"\n",
        "Compute the Minimum Spanning Tree using Kruskal’s algorithm in PyTorch.\n",
        "\"\"\"\n",
        "n = dist_matrix.shape[0]\n",
        "triu_indices = torch.triu_indices(n, n, 1, device='cuda')  # Get upper-triangle indices\n",
        "triu_indices"
      ]
    },
    {
      "cell_type": "code",
      "execution_count": null,
      "metadata": {
        "id": "PnXpNJG05quD",
        "outputId": "a19b5b2c-cb8c-4186-9575-0324a93061ee"
      },
      "outputs": [
        {
          "data": {
            "text/plain": [
              "tensor([ 4.1231,  3.6056,  3.6056,  6.4031,  4.4721,  7.2801,  6.4031,  9.2195,\n",
              "         7.0000,  4.0000,  4.4721,  4.0000,  5.0000,  6.4031,  4.0000,  6.3246,\n",
              "         5.3852,  3.6056,  3.6056,  4.4721,  6.4031,  3.6056,  6.4031,  5.3852,\n",
              "         7.2111,  4.4721,  7.0711,  7.2111, 10.0000,  7.0711,  8.0623,  7.6158,\n",
              "         3.6056,  6.3246,  5.8310,  7.0000,  8.0623, 10.8167,  7.2801,  7.6158,\n",
              "         9.0554,  6.4031,  6.3246,  5.8310,  7.0711], device='cuda:0')"
            ]
          },
          "execution_count": 77,
          "metadata": {},
          "output_type": "execute_result"
        }
      ],
      "source": [
        "edge_weights = dist_matrix[triu_indices[0], triu_indices[1]]  # Extract edge weights\n",
        "sorted_indices = torch.argsort(edge_weights)  # Sort edges by weight\n",
        "edge_weights"
      ]
    },
    {
      "cell_type": "code",
      "execution_count": null,
      "metadata": {
        "id": "ZLBN6c-X5quD",
        "outputId": "92583065-f771-4b81-c907-ee22944bc5df"
      },
      "outputs": [
        {
          "data": {
            "text/plain": [
              "tensor([0, 1, 2, 3, 4, 5, 6, 7, 8, 9], device='cuda:0')"
            ]
          },
          "execution_count": 105,
          "metadata": {},
          "output_type": "execute_result"
        }
      ],
      "source": [
        "parent = torch.arange(n, device='cuda')  # Union-Find structure\n",
        "parent"
      ]
    },
    {
      "cell_type": "code",
      "execution_count": null,
      "metadata": {
        "id": "jqpia60V5quD",
        "outputId": "d80c33d1-23f6-40b5-946e-99c0d4d52cb7"
      },
      "outputs": [
        {
          "name": "stdout",
          "output_type": "stream",
          "text": [
            "tensor([1, 1, 0, 0, 0, 1, 1, 0, 1, 1], device='cuda:0')\n"
          ]
        },
        {
          "data": {
            "text/plain": [
              "[(0, 2, 3.605551242828369),\n",
              " (0, 3, 3.605551242828369),\n",
              " (2, 4, 3.605551242828369),\n",
              " (2, 7, 3.605551242828369),\n",
              " (1, 2, 4.0),\n",
              " (0, 5, 4.4721360206604),\n",
              " (1, 9, 5.385164737701416),\n",
              " (1, 8, 6.324555397033691),\n",
              " (1, 6, 6.4031243324279785)]"
            ]
          },
          "execution_count": 106,
          "metadata": {},
          "output_type": "execute_result"
        }
      ],
      "source": [
        "def find(x):\n",
        "    while parent[x] != x:\n",
        "        x = parent[x]\n",
        "    return x\n",
        "\n",
        "mst_edges = []\n",
        "for idx in sorted_indices:\n",
        "    u, v = triu_indices[:, idx]\n",
        "    root_u, root_v = find(u), find(v)\n",
        "\n",
        "    if root_u != root_v:  # No cycle condition\n",
        "        mst_edges.append((u.item(), v.item(), edge_weights[idx].item()))\n",
        "        parent[root_v] = root_u\n",
        "\n",
        "        if len(mst_edges) == n - 1:\n",
        "            break\n",
        "\n",
        "print(parent)\n",
        "mst_edges"
      ]
    },
    {
      "cell_type": "markdown",
      "metadata": {
        "id": "2UygFLob5quD"
      },
      "source": [
        "## ** Hierarchical 1"
      ]
    },
    {
      "cell_type": "code",
      "execution_count": null,
      "metadata": {
        "id": "4zKD5eQa5quD",
        "outputId": "e13a1d10-597e-4939-e6c8-de8e4fb58cdb"
      },
      "outputs": [
        {
          "name": "stdout",
          "output_type": "stream",
          "text": [
            "Merging clusters: 0 and 2 (weight: 3.605551242828369)\n"
          ]
        }
      ],
      "source": [
        "# Initialize each node as its own cluster\n",
        "parent = {i: {i} for i in range(len(mst_edges) + 1)}\n",
        "\n",
        "# Function to find the root of a cluster\n",
        "def find(node):\n",
        "    if parent[node] != node:\n",
        "        parent[node] = find(parent[node])  # Path compression\n",
        "    return parent[node]\n",
        "\n",
        "# Function to merge two clusters\n",
        "def union(node1, node2):\n",
        "    root1 = find(node1)\n",
        "    root2 = find(node2)\n",
        "    if root1 != root2:\n",
        "        parent[root2] = root1  # Merge clusters\n",
        "\n",
        "# Iterate through sorted edges and merge clusters\n",
        "for edge in mst_edges:\n",
        "    node1, node2, weight = edge\n",
        "    if find(node1) != find(node2):  # If nodes are in different clusters\n",
        "        print(f\"Merging clusters: {node1} and {node2} (weight: {weight})\")\n",
        "        union(node1, node2)\n",
        "    break"
      ]
    },
    {
      "cell_type": "code",
      "execution_count": null,
      "metadata": {
        "id": "glq-9Mi-5quE",
        "outputId": "94ae9ade-15b4-4906-87c4-6b0a58c3a2f0"
      },
      "outputs": [
        {
          "data": {
            "text/plain": [
              "{0: 0, 2: 0, 3: 3, 4: 4, 7: 7, 1: 1, 5: 5, 9: 9, 8: 8, 6: 6}"
            ]
          },
          "execution_count": 103,
          "metadata": {},
          "output_type": "execute_result"
        }
      ],
      "source": [
        "parent"
      ]
    },
    {
      "cell_type": "code",
      "execution_count": null,
      "metadata": {
        "id": "LcL_d76V5quE"
      },
      "outputs": [],
      "source": []
    },
    {
      "cell_type": "code",
      "execution_count": null,
      "metadata": {
        "id": "SoSPqh_d5quE",
        "outputId": "bdc90b80-ecf8-4ec8-f45b-f95e98a2cc06"
      },
      "outputs": [
        {
          "data": {
            "text/plain": [
              "{0: 1, 1: 1, 2: 1, 3: 1, 4: 1, 5: 1, 6: 1, 7: 1, 8: 1, 9: 1}"
            ]
          },
          "execution_count": 97,
          "metadata": {},
          "output_type": "execute_result"
        }
      ],
      "source": [
        "\"\"\"\n",
        "Perform bottom-up hierarchical clustering using the MST.\n",
        "\"\"\"\n",
        "# Step 1: Initialize clusters\n",
        "clusters = {i: {i} for i in range(len(mst_edges) + 1)}\n",
        "\n",
        "# Step 2: Merge all nodes into one large cluster\n",
        "for u, v, _ in mst_edges:\n",
        "    clusters[u].update(clusters[v])\n",
        "    clusters[v] = clusters[u]\n",
        "clusters"
      ]
    },
    {
      "cell_type": "code",
      "execution_count": null,
      "metadata": {
        "id": "v-tAOYOS5quE"
      },
      "outputs": [],
      "source": [
        "# Step 3: Remove the heaviest edges step by step\n",
        "for u, v, weight in reversed(mst_edges):  # Start from largest weight\n",
        "    # Remove connection\n",
        "    clusters[u].discard(v)\n",
        "    clusters[v].discard(u)\n",
        "\n",
        "    # Extract unique clusters\n",
        "    unique_clusters = set(map(tuple, clusters.values()))\n",
        "\n",
        "    # Keep only valid clusters\n",
        "    valid_clusters = [c for c in unique_clusters if len(c) >= min_cluster_size]\n",
        "\n",
        "    # Stop if further splitting would make invalid clusters\n",
        "    if len(valid_clusters) == len(unique_clusters):\n",
        "        break\n",
        "\n",
        "# Step 4: Convert clusters to sets\n",
        "final_clusters = [set(c) for c in valid_clusters]"
      ]
    },
    {
      "cell_type": "code",
      "execution_count": null,
      "metadata": {
        "id": "w3bBAF825quE",
        "outputId": "bb9b3e08-ce6d-4794-ed8d-d4c4eea44956"
      },
      "outputs": [
        {
          "data": {
            "text/plain": [
              "{0: {0, 2, 3, 4, 5, 7},\n",
              " 1: {0, 2, 3, 4, 7, 8, 9},\n",
              " 2: {0, 2, 3, 4, 7, 8, 9},\n",
              " 3: {0, 2, 3, 4, 5, 7},\n",
              " 4: {0, 2, 3, 4, 5, 7},\n",
              " 5: {0, 2, 3, 4, 5, 7},\n",
              " 6: {0, 2, 3, 4, 7, 8, 9},\n",
              " 7: {0, 2, 3, 4, 5, 7},\n",
              " 8: {0, 2, 3, 4, 7, 8, 9},\n",
              " 9: {0, 2, 3, 4, 7, 8, 9}}"
            ]
          },
          "execution_count": 92,
          "metadata": {},
          "output_type": "execute_result"
        }
      ],
      "source": [
        "clusters"
      ]
    },
    {
      "cell_type": "code",
      "execution_count": null,
      "metadata": {
        "id": "45wlAlf-5quE",
        "outputId": "c10ce523-a834-4ba6-cc59-46e3eda4e078"
      },
      "outputs": [
        {
          "data": {
            "text/plain": [
              "dict_values([{0, 2, 3, 4, 5, 7}, {0, 2, 3, 4, 7, 8, 9}, {0, 2, 3, 4, 7, 8, 9}, {0, 2, 3, 4, 5, 7}, {0, 2, 3, 4, 5, 7}, {0, 2, 3, 4, 5, 7}, {0, 2, 3, 4, 7, 8, 9}, {0, 2, 3, 4, 5, 7}, {0, 2, 3, 4, 7, 8, 9}, {0, 2, 3, 4, 7, 8, 9}])"
            ]
          },
          "execution_count": 95,
          "metadata": {},
          "output_type": "execute_result"
        }
      ],
      "source": [
        "clusters.values()"
      ]
    },
    {
      "cell_type": "code",
      "execution_count": null,
      "metadata": {
        "id": "nGUfY1n-5quE",
        "outputId": "417d7174-12ed-4618-d4a9-0d85a35b4649"
      },
      "outputs": [
        {
          "data": {
            "text/plain": [
              "{(0, 2, 3, 4, 5, 7), (0, 2, 3, 4, 7, 8, 9)}"
            ]
          },
          "execution_count": 94,
          "metadata": {},
          "output_type": "execute_result"
        }
      ],
      "source": [
        "unique_clusters"
      ]
    },
    {
      "cell_type": "code",
      "execution_count": null,
      "metadata": {
        "id": "ugEFscVV5quF",
        "outputId": "087ed637-7ca5-40fc-93d2-3bccc9cf9b8d"
      },
      "outputs": [
        {
          "data": {
            "text/plain": [
              "[(0, 2, 3, 4, 5, 7), (0, 2, 3, 4, 7, 8, 9)]"
            ]
          },
          "execution_count": 96,
          "metadata": {},
          "output_type": "execute_result"
        }
      ],
      "source": [
        "valid_clusters"
      ]
    },
    {
      "cell_type": "markdown",
      "metadata": {
        "id": "Zt0gXKzX5quF"
      },
      "source": [
        "## ** H ver 2"
      ]
    },
    {
      "cell_type": "code",
      "execution_count": null,
      "metadata": {
        "id": "tJEh8lES5quF"
      },
      "outputs": [],
      "source": [
        "class MyHDBScan:\n",
        "    def __init__(\n",
        "            self,\n",
        "            min_cluster_size,\n",
        "            number_of_nearest_neighbors=None,\n",
        "            cpu_gpu_device = 'cpu',\n",
        "        ):\n",
        "        # minimum cluster size\n",
        "        self.min_cluster_size = min_cluster_size\n",
        "        # number of nearest neighbors\n",
        "        self.k = number_of_nearest_neighbors or min_cluster_size\n",
        "        self.cpu_gpu_device = cpu_gpu_device\n",
        "\n",
        "    def calculate_mutual_reachability_distances(self, X):\n",
        "        \"\"\"\n",
        "        Compute the mutual reachability distance matrix using PyTorch and CUDA.\n",
        "        \"\"\"\n",
        "        X = torch.tensor(X, dtype=torch.float32, device=self.cpu_gpu_device)  # Move data to device\n",
        "        pairwise_dist = torch.cdist(X, X)  # Compute pairwise Euclidean distances\n",
        "        knn_distances, _ = torch.topk(pairwise_dist, self.k + 1, largest=False)  # k-NN distances\n",
        "        core_distances = knn_distances[:, -1].unsqueeze(1)  # Core distance is k-th neighbor\n",
        "\n",
        "        # Compute mutual reachability distance\n",
        "        mutual_dist_matrix = torch.max(pairwise_dist, core_distances)\n",
        "        self.mutual_dist_matrix = torch.max(mutual_dist_matrix, core_distances.T)\n",
        "\n",
        "    def calculate_minimum_spanning_tree(self):\n",
        "        \"\"\"\n",
        "        Compute the Minimum Spanning Tree using Kruskal’s algorithm in PyTorch.\n",
        "        \"\"\"\n",
        "        n = self.mutual_dist_matrix.shape[0]\n",
        "        triu_indices = torch.triu_indices(n, n, 1, device=self.cpu_gpu_device)  # Get upper-triangle indices\n",
        "        edge_weights = self.mutual_dist_matrix[triu_indices[0], triu_indices[1]]  # Extract edge weights\n",
        "        sorted_indices = torch.argsort(edge_weights)  # Sort edges by weight\n",
        "\n",
        "        parent = torch.arange(n, device=self.cpu_gpu_device)  # Union-Find structure\n",
        "\n",
        "        def find(x):\n",
        "            while parent[x] != x:\n",
        "                x = parent[x]\n",
        "            return x\n",
        "\n",
        "        self.mst_edges = []\n",
        "        for idx in sorted_indices:\n",
        "            u, v = triu_indices[:, idx]\n",
        "            root_u, root_v = find(u), find(v)\n",
        "\n",
        "            if root_u != root_v:  # No cycle condition\n",
        "                self.mst_edges.append((u.item(), v.item(), edge_weights[idx].item()))\n",
        "                parent[root_v] = root_u\n",
        "\n",
        "                if len(self.mst_edges) == n - 1:\n",
        "                    break\n",
        "\n",
        "    def get_mst_edges(self, X):\n",
        "        self.calculate_mutual_reachability_distances(X)\n",
        "        self.calculate_minimum_spanning_tree()\n",
        "        return self.mst_edges"
      ]
    },
    {
      "cell_type": "code",
      "execution_count": null,
      "metadata": {
        "id": "-h44z1Kj5quF"
      },
      "outputs": [],
      "source": [
        "class DendrogramNode:\n",
        "    def __init__(self, left=None, right=None, merge_distance=None, points=None):\n",
        "        # left and right are children nodes\n",
        "        self.left = left\n",
        "        self.right = right\n",
        "        # merge_distance is the MST edge weight at which this merge occurs\n",
        "        self.merge_distance = merge_distance\n",
        "        # points holds the indices of the points in this cluster\n",
        "        self.points = points if points is not None else []\n",
        "\n",
        "    def __repr__(self):\n",
        "        return f\"merge_distance: {self.merge_distance}, points: {self.points}\""
      ]
    },
    {
      "cell_type": "code",
      "execution_count": null,
      "metadata": {
        "id": "BgAIwvZx5quF"
      },
      "outputs": [],
      "source": [
        "# A simple union-find (disjoint-set) implementation for merging clusters.\n",
        "class DisjointSet:\n",
        "    def __init__(self, elems):\n",
        "        self.parent = {x: x for x in elems}\n",
        "        self.size = {x: 1 for x in elems}\n",
        "        # Each point starts as a separate dendrogram node (leaf)\n",
        "        self.cluster_nodes = {x: DendrogramNode(points=[x]) for x in elems}\n",
        "\n",
        "    def find(self, x):\n",
        "        if self.parent[x] != x:\n",
        "            self.parent[x] = self.find(self.parent[x])\n",
        "        return self.parent[x]\n",
        "\n",
        "    def union(self, rep_u, rep_v):\n",
        "        if self.size[rep_u] < self.size[rep_v]:\n",
        "            self.parent[rep_u] = rep_v\n",
        "            self.size[rep_v] += self.size[rep_u]\n",
        "            return rep_v\n",
        "        else:\n",
        "            self.parent[rep_v] = rep_u\n",
        "            self.size[rep_u] += self.size[rep_v]\n",
        "            return rep_u\n",
        "\n",
        "    def build_dendrogram(self, mst_edges):\n",
        "        # Sort the MST edges by increasing weight (or increasing lambda if using 1/weight)\n",
        "        #mst_edges = sorted(mst_edges, key=lambda edge: edge[2])\n",
        "\n",
        "        # Process each edge to merge clusters\n",
        "        for u, v, weight in mst_edges:\n",
        "            rep_u = self.find(u)\n",
        "            rep_v = self.find(v)\n",
        "            if rep_u != rep_v:\n",
        "                # Create a new dendrogram node that represents the merge of two clusters\n",
        "                merged_points = self.cluster_nodes[rep_u].points + self.cluster_nodes[rep_v].points\n",
        "                new_node = DendrogramNode(left=self.cluster_nodes[rep_u],\n",
        "                                        right=self.cluster_nodes[rep_v],\n",
        "                                        merge_distance=weight,\n",
        "                                        points=merged_points)\n",
        "                # Merge clusters in the union-find structure\n",
        "                new_rep = self.union(rep_u, rep_v)  # new representative after union\n",
        "                self.cluster_nodes[new_rep] = new_node\n",
        "\n",
        "        # At the end, there should be a single cluster containing all points.\n",
        "        # We return the dendrogram root.\n",
        "        root = self.cluster_nodes[self.find(0)]\n",
        "        return root"
      ]
    },
    {
      "cell_type": "code",
      "execution_count": null,
      "metadata": {
        "id": "w4cbA-9Q5quF"
      },
      "outputs": [],
      "source": [
        "def compute_stability(node, parent_merge_distance):\n",
        "    \"\"\"\n",
        "    Compute the stability of a node as:\n",
        "      stability = (parent_merge_distance - node_birth) * (number of points)\n",
        "\n",
        "    For leaf nodes (which have no merge_distance), assume node_birth = 0.\n",
        "    \"\"\"\n",
        "    node_birth = node.merge_distance if node.merge_distance is not None else 0\n",
        "    stability = len(node.points) * (parent_merge_distance - node_birth)\n",
        "    return stability\n",
        "\n",
        "\n",
        "def extract_stable_clusters(node, min_cluster_size, parent_merge_distance=float('inf')):\n",
        "    \"\"\"\n",
        "    Recursively extract stable clusters from the dendrogram.\n",
        "\n",
        "    Args:\n",
        "      node: the current dendrogram node\n",
        "      min_cluster_size: clusters with fewer than this many points are discarded\n",
        "      parent_merge_distance: the merge distance at which the parent node was created.\n",
        "                             This acts as the \"death\" level for the current node.\n",
        "\n",
        "    Returns:\n",
        "      A list of tuples (cluster_node, stability) for the selected clusters.\n",
        "    \"\"\"\n",
        "    # Discard clusters smaller than min_cluster_size\n",
        "    if len(node.points) < min_cluster_size:\n",
        "        return []\n",
        "\n",
        "    # If the node is a leaf (no children), it is a candidate cluster.\n",
        "    if node.left is None and node.right is None:\n",
        "        return [(node, compute_stability(node, parent_merge_distance))]\n",
        "\n",
        "    # Recursively extract clusters from both children.\n",
        "    left_clusters = extract_stable_clusters(node.left, min_cluster_size, node.merge_distance)\n",
        "    right_clusters = extract_stable_clusters(node.right, min_cluster_size, node.merge_distance)\n",
        "    children_clusters = left_clusters + right_clusters\n",
        "    children_stability = sum(stab for _, stab in children_clusters)\n",
        "\n",
        "    # Compute stability if we consider the current node as a cluster.\n",
        "    current_stability = compute_stability(node, parent_merge_distance)\n",
        "\n",
        "    # Choose the configuration (current node vs. children) with greater total stability.\n",
        "    if current_stability >= children_stability:\n",
        "        return [(node, current_stability)]\n",
        "    else:\n",
        "        return children_clusters\n"
      ]
    },
    {
      "cell_type": "code",
      "execution_count": null,
      "metadata": {
        "id": "spcrcx3x5quG",
        "outputId": "634bd5ad-e58b-48a4-f81f-6c28712999c8"
      },
      "outputs": [
        {
          "name": "stdout",
          "output_type": "stream",
          "text": [
            "Extracted clusters:\n",
            "Cluster with points [9, 0, 13, 3, 22, 1, 15, 17, 6, 21, 7, 12, 28, 10, 23, 2, 11, 16, 27, 5, 14, 29, 4, 19, 8, 20, 18, 26, 25, 24], stability: inf\n"
          ]
        }
      ],
      "source": [
        "# Define the minimum cluster size.\n",
        "min_cluster_size = 2\n",
        "\n",
        "# Extract clusters from the dendrogram.\n",
        "clusters = extract_stable_clusters(root, min_cluster_size)\n",
        "print(\"Extracted clusters:\")\n",
        "for cluster, stability in clusters:\n",
        "    print(f\"Cluster with points {cluster.points}, stability: {stability}\")"
      ]
    },
    {
      "cell_type": "markdown",
      "metadata": {
        "id": "ftwzYhgA5quG"
      },
      "source": [
        "## ** ChatGPT o1"
      ]
    },
    {
      "cell_type": "code",
      "execution_count": null,
      "metadata": {
        "id": "Url12w0g5quG"
      },
      "outputs": [],
      "source": [
        "# BSD 3-Clause License\n",
        "#\n",
        "# Copyright (c) 2015, Derek Greene\n",
        "# Copyright (c) 2015, Lars Buitinck\n",
        "# All rights reserved.\n",
        "#\n",
        "# ... [License text truncated for brevity, see full license in HDBSCAN repo] ...\n",
        "\n",
        "import numpy as np\n",
        "from collections import defaultdict\n",
        "\n",
        "class CondensedTree(object):\n",
        "    \"\"\"\n",
        "    CondensedTree represents the condensed hierarchy produced by HDBSCAN.\n",
        "    It provides methods to compute cluster stability ('excess of mass') and\n",
        "    select the final clusters.\n",
        "    \"\"\"\n",
        "\n",
        "    def __init__(self, parent, child, lambda_val, child_size, n_points, point_label):\n",
        "        \"\"\"\n",
        "        Create a condensed tree representation from arrays of parent,\n",
        "        child, lambda_val, child_size, etc.\n",
        "        ...\n",
        "        \"\"\"\n",
        "        self._parent = parent\n",
        "        self._child = child\n",
        "        self._lambda = lambda_val\n",
        "        self._child_size = child_size\n",
        "        self._n_points = n_points\n",
        "        self._point_label = point_label\n",
        "        self._max_lmbd = np.max(self._lambda)\n",
        "        self._min_lmbd = np.min(self._lambda)\n",
        "        # (Some lines omitted for brevity)\n",
        "\n",
        "        self._num_nodes = len(self._parent)\n",
        "        # This will be filled by compute_stability():\n",
        "        self._stability = None\n",
        "        # Used for final cluster selection:\n",
        "        self._clusters = None\n",
        "        self._cluster_tree = None\n",
        "\n",
        "    def compute_stability(self, cluster_selection_epsilon=0.0):\n",
        "        \"\"\"\n",
        "        Compute the stability (excess of mass) for each cluster in the\n",
        "        condensed tree. This is essentially the integral of cluster size\n",
        "        over the lambda range at which it exists, adjusting for epsilon\n",
        "        if cluster_selection_epsilon > 0.0.\n",
        "\n",
        "        Parameters\n",
        "        ----------\n",
        "        cluster_selection_epsilon : float (default=0.0)\n",
        "            A distance threshold. Clusters must persist over an additional\n",
        "            distance of epsilon to be considered separate. In practice,\n",
        "            we scale lambda by (1 + cluster_selection_epsilon) in merges.\n",
        "        \"\"\"\n",
        "        if self._stability is not None:\n",
        "            return\n",
        "\n",
        "        # Some helper structures\n",
        "        stability = np.zeros(self._num_nodes, dtype=float)\n",
        "        children = defaultdict(list)\n",
        "        for i in range(self._num_nodes):\n",
        "            p = self._parent[i]\n",
        "            if p >= 0:\n",
        "                children[p].append(i)\n",
        "\n",
        "        # Sort child nodes of each parent by ascending lambda\n",
        "        for p in children:\n",
        "            c_list = children[p]\n",
        "            c_list.sort(key=lambda x: self._lambda[x])\n",
        "\n",
        "        # Depth-first stack approach to accumulate stability\n",
        "        stack = []\n",
        "        root_nodes = [i for i in range(self._num_nodes) if self._parent[i] < 0]\n",
        "        for r in root_nodes:\n",
        "            stack.append(r)\n",
        "\n",
        "        while stack:\n",
        "            node = stack.pop()\n",
        "            # We have to integrate the child cluster sizes from the parent's lambda\n",
        "            # to the child's lambda to compute the area under size curve\n",
        "            node_children = children[node]\n",
        "            prev_lambda = self._lambda[node] if node < self._n_points else 0.0\n",
        "            if node < self._n_points:\n",
        "                # Leaves represent single points with lambdaVal as the level\n",
        "                pass\n",
        "\n",
        "            for c in node_children:\n",
        "                # The cluster below child c persists from (prev_lambda) up to self._lambda[c]\n",
        "                # so the stability contributed is child_size[c] * (self._lambda[c] - prev_lambda)\n",
        "                delta_lambda = (self._lambda[c] - prev_lambda) * (1.0 + cluster_selection_epsilon)\n",
        "                if delta_lambda < 0:\n",
        "                    delta_lambda = 0\n",
        "                stability[c] += self._child_size[c] * delta_lambda\n",
        "                stack.append(c)\n",
        "                prev_lambda = self._lambda[c]\n",
        "\n",
        "            # If no children, it's a leaf - but leaves can still exist until top\n",
        "            # we don't close them out until they get merged or are root\n",
        "\n",
        "        self._stability = stability\n",
        "\n",
        "    def select_clusters(self, cluster_selection_epsilon=0.0, min_cluster_size=None):\n",
        "        \"\"\"\n",
        "        Select clusters from the condensed tree by maximizing the\n",
        "        stability (excess of mass). Perform an epsilon correction\n",
        "        if cluster_selection_epsilon > 0.0.\n",
        "\n",
        "        Returns a dictionary: {cluster_label: [list_of_points]}.\n",
        "        \"\"\"\n",
        "        # Ensure stability is computed\n",
        "        self.compute_stability(cluster_selection_epsilon=cluster_selection_epsilon)\n",
        "\n",
        "        # We'll store final cluster labels in _clusters\n",
        "        # This is a dict: node_id -> cluster_id\n",
        "        self._clusters = {}\n",
        "        cluster_id = 0\n",
        "\n",
        "        # We'll do a DFS from root nodes, deciding if we take each subtree\n",
        "        children = defaultdict(list)\n",
        "        for i in range(self._num_nodes):\n",
        "            p = self._parent[i]\n",
        "            if p >= 0:\n",
        "                children[p].append(i)\n",
        "\n",
        "        # Sort children by descending stability, or we might replicate\n",
        "        # HDBSCAN's approach more precisely\n",
        "        for c_list in children.values():\n",
        "            c_list.sort(key=lambda x: self._stability[x], reverse=True)\n",
        "\n",
        "        root_nodes = [i for i in range(self._num_nodes) if self._parent[i] < 0]\n",
        "        stack = []\n",
        "        for r in root_nodes:\n",
        "            stack.append(r)\n",
        "\n",
        "        while stack:\n",
        "            node = stack.pop()\n",
        "            # If min_cluster_size is set, we can skip nodes whose child_size < min_cluster_size\n",
        "            if min_cluster_size is not None and self._child_size[node] < min_cluster_size:\n",
        "                # Recur on children but do not mark node as a cluster\n",
        "                for c in children[node]:\n",
        "                    stack.append(c)\n",
        "                continue\n",
        "\n",
        "            # If the node's stability is high enough to be considered a cluster on its own\n",
        "            # we can label it here. Alternatively, we can compare child stabilities to see\n",
        "            # if we should keep splitting.\n",
        "            # In the official HDBSCAN, there's a more detailed rule set for splitting vs. keeping.\n",
        "            # We'll do a simplified approach:\n",
        "            # If none of the child subtrees has higher stability, we consider 'node' a cluster.\n",
        "            c_stabilities = [self._stability[ch] for ch in children[node]]\n",
        "            if len(c_stabilities) == 0 or max(c_stabilities) < self._stability[node]:\n",
        "                # Mark the node as a cluster\n",
        "                self._clusters[node] = cluster_id\n",
        "                cluster_id += 1\n",
        "            else:\n",
        "                # It's better to recurse down to children\n",
        "                for c in children[node]:\n",
        "                    stack.append(c)\n",
        "\n",
        "        # Next, assign each leaf data point to the cluster of its ancestor\n",
        "        # or mark as noise if no ancestor is a cluster\n",
        "        point_to_cluster = np.full(self._n_points, -1, dtype=int)\n",
        "        for leaf_id in range(self._n_points):\n",
        "            node = leaf_id\n",
        "            c_label = -1\n",
        "            while node != -1:\n",
        "                if node in self._clusters:\n",
        "                    c_label = self._clusters[node]\n",
        "                    break\n",
        "                p = self._parent[node]\n",
        "                node = p if p >= 0 else -1\n",
        "            point_to_cluster[leaf_id] = c_label\n",
        "\n",
        "        return point_to_cluster\n",
        "\n",
        "    # ... More methods omitted for brevity ...\n"
      ]
    },
    {
      "cell_type": "code",
      "execution_count": null,
      "metadata": {
        "id": "s-5Dww4X5quG"
      },
      "outputs": [],
      "source": [
        "# A simple union-find (disjoint-set) implementation for merging clusters.\n",
        "class DisjointSet:\n",
        "    def __init__(self, elems):\n",
        "        self.parent = {x: x for x in elems}\n",
        "        self.clusters_size = {x: 1 for x in elems}\n",
        "        self.single_linkage_tree = []\n",
        "        n = len(elems)\n",
        "        # Create a structure \"cluster_info\" to hold birth_distance, death_distance, size, parent\n",
        "        self.clusters = [\n",
        "            dict(birth=0.0, death=float('inf'), size=1, parent=None)\n",
        "            for _ in range(2*n - 1)\n",
        "        ]\n",
        "\n",
        "    def find(self, x):\n",
        "        if self.parent[x] != x:\n",
        "            self.parent[x] = self.find(self.parent[x])\n",
        "        return self.parent[x]\n",
        "\n",
        "    def union(self, rep_u, rep_v):\n",
        "        if self.clusters_size[rep_u] < self.clusters_size[rep_v]:\n",
        "            self.parent[rep_u] = rep_v\n",
        "            self.clusters_size[rep_v] += self.clusters_size[rep_u]\n",
        "            return rep_v\n",
        "        else:\n",
        "            self.parent[rep_v] = rep_u\n",
        "            self.clusters_size[rep_u] += self.clusters_size[rep_v]\n",
        "            return rep_u\n",
        "\n",
        "    def build_hierarchy(self, mst_edges):\n",
        "        # Sort the MST edges by increasing weight (or increasing lambda if using 1/weight)\n",
        "        #mst_edges = sorted(mst_edges, key=lambda edge: edge[2])\n",
        "\n",
        "        # Process each edge to merge clusters\n",
        "        current_label = n\n",
        "        for u, v, distance in mst_edges:\n",
        "            rep_u = self.find(u)\n",
        "            rep_v = self.find(v)\n",
        "            if rep_u != rep_v:\n",
        "                new_size = self.clusters_size[rep_u] + self.clusters_size[rep_v]\n",
        "                # The new cluster is \"born\" at 'dist'\n",
        "                self.clusters[current_label] = {\n",
        "                    'birth': distance,\n",
        "                    'death': float('inf'),    # we'll fill in if it merges later\n",
        "                    'size': new_size,\n",
        "                    'parent': None\n",
        "                }\n",
        "                # node1 merges into new_cluster at distance=dist\n",
        "                self.clusters[rep_u]['death'] = distance\n",
        "                self.clusters[rep_u]['parent'] = current_label\n",
        "\n",
        "                # node2 merges into new_cluster as well\n",
        "                self.clusters[rep_v]['death'] = distance\n",
        "                self.clusters[rep_v]['parent'] = current_label\n",
        "\n",
        "                self.single_linkage_tree.append([rep_u, rep_v, distance])\n",
        "                current_label += 1\n",
        "                # Merge clusters in the union-find structure\n",
        "                new_rep = self.union(rep_u, rep_v)  # new representative after union"
      ]
    },
    {
      "cell_type": "code",
      "execution_count": null,
      "metadata": {
        "id": "fTv39sKr5quH"
      },
      "outputs": [],
      "source": [
        "n = number_of_data_points\n",
        "linkage = your (n-1) x 3 array of merges, sorted by ascending distance\n",
        "\n",
        "# We'll store info for 2n-1 possible \"nodes\":\n",
        "#  - 0..(n-1): the original data points (clusters of size=1)\n",
        "#  - n..(2n-2): internal clusters formed at each merge step\n",
        "# (SciPy uses exactly this scheme)\n",
        "\n",
        "# Create a structure \"cluster_info\" to hold birth_distance, death_distance, size, parent\n",
        "cluster_info = [ dict(birth=0.0, death=float('inf'), size=1, parent=None)\n",
        "                 for _ in range(2*n - 1) ]\n",
        "\n",
        "# For the n original points, birth_distance=0, size=1 by default\n",
        "# They won't have a parent or a meaningful 'death' yet.\n",
        "\n",
        "current_cluster_label = n  # internal cluster IDs start at n\n",
        "\n",
        "for (node1, node2, dist) in linkage:\n",
        "    # cluster1 = the info structure for node1\n",
        "    # cluster2 = the info structure for node2\n",
        "    # new_cluster = the \"merged\" cluster with label = current_cluster_label\n",
        "\n",
        "    size1 = cluster_info[node1]['size']\n",
        "    size2 = cluster_info[node2]['size']\n",
        "    new_size = size1 + size2\n",
        "\n",
        "    # The new cluster is \"born\" at 'dist'\n",
        "    cluster_info.append({\n",
        "        'birth': dist,\n",
        "        'death': float('inf'),    # we'll fill in if it merges later\n",
        "        'size': new_size,\n",
        "        'parent': None\n",
        "    })\n",
        "\n",
        "    # node1 merges into new_cluster at distance=dist\n",
        "    cluster_info[node1]['death'] = dist\n",
        "    cluster_info[node1]['parent'] = current_cluster_label\n",
        "\n",
        "    # node2 merges into new_cluster as well\n",
        "    cluster_info[node2]['death'] = dist\n",
        "    cluster_info[node2]['parent'] = current_cluster_label\n",
        "\n",
        "    # cluster_info for new_cluster is stored at \"current_cluster_label\"\n",
        "    cluster_info[current_cluster_label] = {\n",
        "        'birth': dist,\n",
        "        'death': float('inf'),\n",
        "        'size': new_size,\n",
        "        'parent': None\n",
        "    }\n",
        "\n",
        "    # increment cluster label\n",
        "    current_cluster_label += 1\n"
      ]
    },
    {
      "cell_type": "code",
      "execution_count": null,
      "metadata": {
        "id": "gy8KPx_A5quH"
      },
      "outputs": [],
      "source": []
    },
    {
      "cell_type": "markdown",
      "metadata": {
        "id": "gltuHSFG5quH"
      },
      "source": [
        "## ** Grok"
      ]
    },
    {
      "cell_type": "markdown",
      "metadata": {
        "id": "-gmV1BMG5quH"
      },
      "source": [
        "### *** original"
      ]
    },
    {
      "cell_type": "code",
      "execution_count": null,
      "metadata": {
        "id": "zSNGLeul5quH"
      },
      "outputs": [],
      "source": [
        "def build_hierarchy(self, mst_edges):\n",
        "    \"\"\"\n",
        "    Build single linkage hierarchy from MST edges.\n",
        "    \"\"\"\n",
        "    active_clusters = set(range(self.n_points))\n",
        "    hierarchy = []  # [parent, child, lambda_val, size]\n",
        "    self.cluster_id = self.n_points  # Unique IDs start after points\n",
        "\n",
        "    for u, v, distance in mst_edges:\n",
        "        lambda_val = 1 / distance\n",
        "        root_u, root_v = self.find(u), self.find(v)\n",
        "\n",
        "        if root_u != root_v:\n",
        "            for root in (root_u, root_v):\n",
        "                if root in active_clusters:\n",
        "                    birth, _ = self.clusters_lambdas[root][-1]\n",
        "                    self.clusters_lambdas[root][-1] = (birth, lambda_val)\n",
        "                    active_clusters.remove(root)\n",
        "\n",
        "            new_root = self.union(root_u, root_v)\n",
        "            new_size = self.clusters_sizes[new_root]\n",
        "            self.clusters_lambdas[new_root].append((lambda_val, float('inf')))\n",
        "            active_clusters.add(new_root)\n",
        "\n",
        "            # Record hierarchy: parent is new cluster, child is merged root\n",
        "            hierarchy.append([self.cluster_id, root_u, lambda_val, self.clusters_sizes[root_u]])\n",
        "            hierarchy.append([self.cluster_id, root_v, lambda_val, self.clusters_sizes[root_v]])\n",
        "            self.cluster_id += 1\n",
        "\n",
        "    # Finalize root\n",
        "    assert len(active_clusters) == 1\n",
        "    cl_id = active_clusters.pop()\n",
        "    birth, death = self.clusters_lambdas[cl_id][-1]\n",
        "    if death == float('inf'):\n",
        "        self.clusters_lambdas[cl_id][-1] = (birth, 0)\n",
        "\n",
        "    self.hierarchy = hierarchy"
      ]
    },
    {
      "cell_type": "code",
      "execution_count": null,
      "metadata": {
        "id": "STA_qHo35quH"
      },
      "outputs": [],
      "source": [
        "def condense_tree(self, min_cluster_size):\n",
        "    \"\"\"\n",
        "    Condense hierarchy into a tree of significant clusters.\n",
        "    \"\"\"\n",
        "    condensed_tree = []  # [parent, child, lambda_val, child_size]\n",
        "    node_sizes = {i: 1 for i in range(self.n_points)}  # Track sizes\n",
        "    node_lambdas = {}  # Track lambda at which nodes split\n",
        "\n",
        "    # Process hierarchy bottom-up\n",
        "    for parent, child, lambda_val, size in self.hierarchy:\n",
        "        node_lambdas[child] = lambda_val\n",
        "        if parent not in node_sizes:\n",
        "            node_sizes[parent] = 0\n",
        "        node_sizes[parent] += size\n",
        "\n",
        "        # If parent size >= min_cluster_size, add to condensed tree\n",
        "        if node_sizes[parent] >= min_cluster_size:\n",
        "            condensed_tree.append([parent, child, lambda_val, size])\n",
        "        # If child was a cluster but now splits, record its death\n",
        "        elif child >= self.n_points and child in node_sizes:\n",
        "            condensed_tree.append([parent, child, lambda_val, node_sizes[child]])\n",
        "\n",
        "    self.condensed_tree = condensed_tree\n",
        "    return condensed_tree"
      ]
    },
    {
      "cell_type": "code",
      "execution_count": null,
      "metadata": {
        "id": "DKrTxmrs5quH"
      },
      "outputs": [],
      "source": [
        "def define_clusters(self, condensed_tree, min_cluster_size):\n",
        "    \"\"\"\n",
        "    Select clusters using Excess of Mass.\n",
        "    \"\"\"\n",
        "    # Compute stability\n",
        "    stability = {}\n",
        "    cluster_sizes = {}\n",
        "    for parent, child, lambda_val, child_size in condensed_tree:\n",
        "        if parent not in stability:\n",
        "            stability[parent] = 0\n",
        "        if child >= self.n_points:  # Only clusters, not points\n",
        "            stability[child] = stability.get(child, 0) + (lambda_val - self.clusters_lambdas[child][-1][1])\n",
        "        cluster_sizes[parent] = cluster_sizes.get(parent, 0) + child_size\n",
        "        cluster_sizes[child] = child_size\n",
        "\n",
        "    # Build children mapping\n",
        "    cluster_children = {}\n",
        "    for parent, child, _, _ in condensed_tree:\n",
        "        if parent not in cluster_children:\n",
        "            cluster_children[parent] = []\n",
        "        cluster_children[parent].append(child)\n",
        "\n",
        "    selected_clusters = set()\n",
        "    root = max(cluster_sizes.keys())  # Last cluster ID\n",
        "\n",
        "    def evaluate_cluster(cid):\n",
        "        children = cluster_children.get(cid, [])\n",
        "        if not children or cluster_sizes[cid] < min_cluster_size:\n",
        "            if cid in stability and cluster_sizes[cid] >= min_cluster_size:\n",
        "                selected_clusters.add(cid)\n",
        "                return stability.get(cid, 0)\n",
        "            return 0\n",
        "\n",
        "        my_stability = stability.get(cid, 0)\n",
        "        children_stability = sum(evaluate_cluster(child) for child in children)\n",
        "\n",
        "        if my_stability >= children_stability:\n",
        "            selected_clusters.add(cid)\n",
        "            return my_stability\n",
        "        return children_stability\n",
        "\n",
        "    evaluate_cluster(root)\n",
        "    self.selected_clusters = selected_clusters\n",
        "    return selected_clusters"
      ]
    },
    {
      "cell_type": "markdown",
      "metadata": {
        "id": "iYMsbJpg5quH"
      },
      "source": [
        "### *** code"
      ]
    },
    {
      "cell_type": "code",
      "execution_count": null,
      "metadata": {
        "id": "rM5y91z_5quI"
      },
      "outputs": [],
      "source": [
        "class Cluster:\n",
        "    def __init__(\n",
        "            self,\n",
        "            size,\n",
        "            lambda_birth=None,\n",
        "            lambda_death=None,\n",
        "            children=[],\n",
        "            nodes=[],\n",
        "            persistence = 0,\n",
        "            is_node = False\n",
        "    ):\n",
        "        self.size = size\n",
        "        self.lambda_birth = lambda_birth\n",
        "        self.lambda_death = lambda_death\n",
        "        self.children = children\n",
        "        self.nodes = nodes\n",
        "        self.persistence = persistence\n",
        "        self.is_node = is_node\n",
        "\n",
        "class DisjointSet:\n",
        "    def __init__(self, n_points, min_cluster_size):\n",
        "        self.parents = list(range(n_points))\n",
        "        # For Union-Find optimization (tree height)\n",
        "        self.clusters_ranks = [0] * n_points\n",
        "        # Track size of each cluster\n",
        "        self.clusters_sizes = [1] * n_points\n",
        "\n",
        "        self.n_points = n_points\n",
        "        self.min_cluster_size = min_cluster_size\n",
        "\n",
        "        # Initialize singletons clusters\n",
        "        self.clusters = {}\n",
        "        for i in range(self.n_points):\n",
        "            self.clusters[i] = Cluster(\n",
        "                size=1,\n",
        "                nodes=[i],\n",
        "                is_node=True\n",
        "            )\n",
        "\n",
        "    def find(self, u):\n",
        "        if self.parents[u] != u:\n",
        "            self.parents[u] = self.find(self.parents[u])  # Path compression\n",
        "        return self.parents[u]\n",
        "\n",
        "    def union(self, root_u, root_v):\n",
        "        if self.clusters_ranks[root_u] < self.clusters_ranks[root_v]:\n",
        "            root_u, root_v = root_v, root_u\n",
        "        self.parents[root_v] = root_u\n",
        "        # Update size\n",
        "        self.clusters_sizes[root_u] += self.clusters_sizes[root_v]\n",
        "        # Rank increases only if equal height\n",
        "        if self.clusters_ranks[root_u] == self.clusters_ranks[root_v]:\n",
        "            self.clusters_ranks[root_u] += 1\n",
        "        return root_u\n",
        "\n",
        "    def build_hierarchy(self, mst_edges):\n",
        "        \"\"\"\n",
        "        Build hierarchy from MST\n",
        "        Args:\n",
        "            mst_edges: List of [(u, v, distance), ...] sorted by increasing distance\n",
        "        \"\"\"\n",
        "\n",
        "        # Initialize trackers\n",
        "        active_clusters = set(range(self.n_points))\n",
        "        root_clusters_map = {i: i for i in range(self.n_points)}\n",
        "\n",
        "        # Start assigning new IDs after original points\n",
        "        cluster_id = self.n_points - 1\n",
        "        # Process MST edges in order of increasing distance\n",
        "        for u, v, distance in mst_edges:\n",
        "            # increment cluster ID\n",
        "            cluster_id += 1\n",
        "            # Lambda = inverse of distance\n",
        "            lambda_val = 1 / distance\n",
        "            root_u, root_v = self.find(u), self.find(v)\n",
        "\n",
        "            if root_u != root_v:\n",
        "                children = []\n",
        "                for root in (root_u, root_v):\n",
        "                    active_clusters.discard(root)\n",
        "                    # Update children\n",
        "                    child_id = root_clusters_map[root]\n",
        "                    children.append(child_id)\n",
        "                    # update lambda_birth\n",
        "                    child_cluster = self.clusters[child_id]\n",
        "                    child_cluster.persistance = child_cluster.lambda_death - lambda_val\n",
        "\n",
        "\n",
        "                # Merge clusters\n",
        "                new_root = self.union(root_u, root_v)\n",
        "\n",
        "                active_clusters.add(new_root)\n",
        "                root_clusters_map[new_root] = cluster_id\n",
        "\n",
        "                self.clusters[cluster_id] = Cluster(\n",
        "                    size=self.clusters_sizes[new_root],\n",
        "                    lambda_death=lambda_val,\n",
        "                    children=children,\n",
        "                )\n",
        "\n",
        "        self.clusters[cluster_id].lambda_birth = 0\n",
        "\n",
        "    def condense_and_compute_persistence(self):\n",
        "        \"\"\"\n",
        "        Condense hierarchy and compute persistence for significant clusters.\n",
        "        \"\"\"\n",
        "        self.condensed_tree = []\n",
        "        self.persistence = {}\n",
        "        # Track clusters already processed for persistence\n",
        "\n",
        "        for event in self.merge_events:\n",
        "            cluster_size = event['size']\n",
        "\n",
        "            # Include in condensed tree if the new cluster is significant\n",
        "            if cluster_size >= self.min_cluster_size:\n",
        "                # Compute persistence only once per significant cluster\n",
        "                cluster_id = event['cluster_id']\n",
        "                # First birth when it becomes significant\n",
        "                lambda_birth = event['lambda_birth']\n",
        "                # Final death from clusters_lambdas\n",
        "                root = event['root']\n",
        "                lambda_death = self.clusters_lambdas[root][-1][1]\n",
        "                self.persistence[cluster_id] = lambda_birth - lambda_death\n",
        "                # add to condence tree\n",
        "                self.condensed_tree.append(event)\n",
        "\n",
        "    def select_clusters_eom(self):\n",
        "        \"\"\"\n",
        "        Select clusters using Excess of Mass method.\n",
        "\n",
        "        Returns:\n",
        "            selected_clusters: Set of cluster IDs in the final clustering\n",
        "        \"\"\"\n",
        "        selected_clusters = set()\n",
        "        cluster_children = {}  # Map parent to children\n",
        "\n",
        "        # Build parent-child relationships (reverse hierarchy)\n",
        "        for event in self.condensed_tree:\n",
        "            cluster_id = event['cluster_id']\n",
        "            cluster_children[cluster_id] = [event['left'], event['right']]\n",
        "\n",
        "        # Start from the root (last event's new_cluster)\n",
        "        root = self.condensed_tree[-1]['cluster_id'] if self.condensed_tree else None\n",
        "        if not root:\n",
        "            return selected_clusters\n",
        "\n",
        "        def evaluate_cluster(cl_id):\n",
        "            children = cluster_children.get(cl_id, [])\n",
        "            if not children:\n",
        "                if cl_id in self.persistence:\n",
        "                    selected_clusters.add(cl_id)\n",
        "                    return self.persistence.get(cl_id, 0)\n",
        "                return 0\n",
        "\n",
        "            my_persistence = self.persistence.get(cl_id, 0)\n",
        "            children_persistence = sum(evaluate_cluster(child) for child in children)\n",
        "            if my_persistence >= children_persistence:\n",
        "                selected_clusters.add(cl_id)\n",
        "                return my_persistence\n",
        "            return children_persistence  # Split into children\n",
        "\n",
        "        evaluate_cluster(root)\n",
        "        return selected_clusters"
      ]
    },
    {
      "cell_type": "code",
      "execution_count": null,
      "metadata": {
        "id": "KQV6_frH5quI"
      },
      "outputs": [],
      "source": []
    },
    {
      "cell_type": "markdown",
      "metadata": {
        "id": "pXmZQZuO5quI"
      },
      "source": [
        "### *** how to use"
      ]
    },
    {
      "cell_type": "code",
      "execution_count": null,
      "metadata": {
        "id": "mVKWtxNN5quI",
        "outputId": "f08f81fa-f0ed-4906-d857-a5f94d59f4af"
      },
      "outputs": [
        {
          "data": {
            "text/plain": [
              "[(7, 22, 2.2360680103302),\n",
              " (9, 21, 2.2360680103302),\n",
              " (5, 12, 2.2360680103302),\n",
              " (5, 19, 2.2360680103302),\n",
              " (7, 15, 2.8284270763397217),\n",
              " (15, 24, 2.8284270763397217),\n",
              " (9, 14, 2.8284270763397217),\n",
              " (5, 26, 2.8284270763397217),\n",
              " (10, 19, 2.8284270763397217),\n",
              " (14, 22, 2.8284270763397217),\n",
              " (10, 14, 2.8284270763397217),\n",
              " (1, 12, 3.0),\n",
              " (17, 24, 3.1622776985168457),\n",
              " (6, 22, 3.1622776985168457),\n",
              " (7, 28, 3.605551242828369),\n",
              " (4, 25, 3.605551242828369),\n",
              " (4, 23, 3.605551242828369),\n",
              " (0, 12, 3.605551242828369),\n",
              " (4, 20, 3.605551242828369),\n",
              " (26, 29, 3.605551242828369),\n",
              " (18, 25, 4.0),\n",
              " (2, 28, 4.123105525970459),\n",
              " (25, 28, 4.123105525970459),\n",
              " (8, 20, 4.123105525970459),\n",
              " (12, 13, 4.4721360206604),\n",
              " (12, 27, 4.4721360206604),\n",
              " (16, 24, 4.4721360206604),\n",
              " (10, 11, 5.0),\n",
              " (3, 15, 5.0)]"
            ]
          },
          "execution_count": 301,
          "metadata": {},
          "output_type": "execute_result"
        }
      ],
      "source": [
        "mst_edges"
      ]
    },
    {
      "cell_type": "code",
      "execution_count": null,
      "metadata": {
        "id": "Ff_HThAC5quI"
      },
      "outputs": [],
      "source": [
        "# Example usage\n",
        "min_cluster_size = 3\n",
        "ds = DisjointSet(n_points)\n",
        "ds.build_hierarchy(mst_edges)"
      ]
    },
    {
      "cell_type": "code",
      "execution_count": null,
      "metadata": {
        "id": "LdroqIvQ5quI",
        "outputId": "17e92f58-171f-488d-ec84-6b093bc98316"
      },
      "outputs": [
        {
          "name": "stdout",
          "output_type": "stream",
          "text": [
            "Merge Events:\n",
            "{'left': 155, 'right': 324, 'root': 155, 'cluster_id': 665, 'lambda_birth': 0.034374361161839354, 'size': 112}\n",
            "{'left': 270, 'right': 155, 'root': 270, 'cluster_id': 666, 'lambda_birth': 0.034374361161839354, 'size': 213}\n",
            "{'left': 28, 'right': 39, 'root': 28, 'cluster_id': 667, 'lambda_birth': 0.033364628369798, 'size': 121}\n",
            "{'left': 270, 'right': 311, 'root': 270, 'cluster_id': 668, 'lambda_birth': 0.03199897659523096, 'size': 214}\n",
            "{'left': 270, 'right': 321, 'root': 270, 'cluster_id': 669, 'lambda_birth': 0.026997461366948337, 'size': 215}\n",
            "{'left': 270, 'right': 28, 'root': 270, 'cluster_id': 670, 'lambda_birth': 0.0204665847932488, 'size': 336}\n"
          ]
        }
      ],
      "source": [
        "# Print results for inspection\n",
        "print(\"Merge Events:\")\n",
        "for event in ds.merge_events[-6:]:\n",
        "    print(event)"
      ]
    },
    {
      "cell_type": "code",
      "execution_count": null,
      "metadata": {
        "id": "YvF64Fu75quI",
        "outputId": "f479f7ba-0448-4637-a4b2-2ec756b38f92"
      },
      "outputs": [
        {
          "name": "stdout",
          "output_type": "stream",
          "text": [
            "\n",
            "Cluster Lambda Ranges:\n",
            "Cluster 4: [(inf, 0.2773501006230469), (0.2773501006230469, 0.2773501006230469), (0.2773501006230469, 0.2773501006230469), (0.2773501006230469, 0.25), (0.25, 0.2425356308979332)]\n",
            "Cluster 5: [(inf, 0.4472135889338759), (0.4472135889338759, 0.4472135889338759), (0.4472135889338759, 0.3535533966440824), (0.3535533966440824, 0.3535533966440824), (0.3535533966440824, 0.3535533966440824)]\n",
            "Cluster 7: [(inf, 0.4472135889338759), (0.4472135889338759, 0.3535533966440824), (0.3535533966440824, 0.3535533966440824), (0.3535533966440824, 0.3535533966440824)]\n",
            "Cluster 9: [(inf, 0.4472135889338759), (0.4472135889338759, 0.3535533966440824), (0.3535533966440824, 0.3535533966440824), (0.3535533966440824, 0.3535533966440824), (0.3535533966440824, 0.3333333333333333), (0.3333333333333333, 0.31622776218199133), (0.31622776218199133, 0.31622776218199133), (0.31622776218199133, 0.2773501006230469), (0.2773501006230469, 0.2773501006230469), (0.2773501006230469, 0.2773501006230469), (0.2773501006230469, 0.2425356308979332), (0.2425356308979332, 0.2425356308979332), (0.2425356308979332, 0.2425356308979332), (0.2425356308979332, 0.22360679446693796), (0.22360679446693796, 0.22360679446693796), (0.22360679446693796, 0.22360679446693796), (0.22360679446693796, 0.2), (0.2, 0.2), (0.2, 0)]\n"
          ]
        }
      ],
      "source": [
        "print(\"\\nCluster Lambda Ranges:\")\n",
        "for cid, lambdas in ds.clusters_lambdas.items():\n",
        "    # if ranges and ranges[0][0] != float('inf'):  # Filter out initial singleton ranges\n",
        "    #     print(f\"Cluster {cid}: {ranges}\")\n",
        "    # print(f\"Cluster {cid}: {ranges}\")\n",
        "    if len(lambdas) > 1:  # Include clusters with defined death\n",
        "        print(f\"Cluster {cid}: {lambdas}\")"
      ]
    },
    {
      "cell_type": "code",
      "execution_count": null,
      "metadata": {
        "id": "zxAkRtJe5quI"
      },
      "outputs": [],
      "source": [
        "ds.condense_and_compute_persistence()\n",
        "# print(\"\\nCondensed Tree:\")\n",
        "# for event in ds.condensed_tree[::-1]:\n",
        "#     print(event)\n",
        "# print(\"\\nPersistence:\")\n",
        "# for cid, pers in ds.persistence.items():\n",
        "#     print(f\"Cluster {cid}: {pers}\")"
      ]
    },
    {
      "cell_type": "code",
      "execution_count": null,
      "metadata": {
        "id": "GaSu6IVA5quI",
        "outputId": "7462c578-daec-4622-93aa-1e57391ba970"
      },
      "outputs": [
        {
          "name": "stdout",
          "output_type": "stream",
          "text": [
            "Selected Clusters: {670}\n"
          ]
        }
      ],
      "source": [
        "selected = ds.select_clusters_eom()\n",
        "print(\"Selected Clusters:\", selected)"
      ]
    },
    {
      "cell_type": "code",
      "execution_count": null,
      "metadata": {
        "id": "QgcLflhM5quI",
        "outputId": "5838b6b2-75cd-4bf4-d6f9-4ddb31c7b9c0"
      },
      "outputs": [
        {
          "data": {
            "text/plain": [
              "285"
            ]
          },
          "execution_count": 326,
          "metadata": {},
          "output_type": "execute_result"
        }
      ],
      "source": [
        "len(ds.persistence)"
      ]
    },
    {
      "cell_type": "code",
      "execution_count": null,
      "metadata": {
        "id": "cq0qZBlR5quI",
        "outputId": "fa6b4cb6-e599-479e-8d07-3320155e87db"
      },
      "outputs": [
        {
          "data": {
            "text/plain": [
              "[{'left': 270,\n",
              "  'right': 155,\n",
              "  'root': 270,\n",
              "  'cluster_id': 666,\n",
              "  'lambda_birth': 0.034374361161839354,\n",
              "  'size': 213},\n",
              " {'left': 28,\n",
              "  'right': 39,\n",
              "  'root': 28,\n",
              "  'cluster_id': 667,\n",
              "  'lambda_birth': 0.033364628369798,\n",
              "  'size': 121},\n",
              " {'left': 270,\n",
              "  'right': 311,\n",
              "  'root': 270,\n",
              "  'cluster_id': 668,\n",
              "  'lambda_birth': 0.03199897659523096,\n",
              "  'size': 214},\n",
              " {'left': 270,\n",
              "  'right': 321,\n",
              "  'root': 270,\n",
              "  'cluster_id': 669,\n",
              "  'lambda_birth': 0.026997461366948337,\n",
              "  'size': 215},\n",
              " {'left': 270,\n",
              "  'right': 28,\n",
              "  'root': 270,\n",
              "  'cluster_id': 670,\n",
              "  'lambda_birth': 0.0204665847932488,\n",
              "  'size': 336}]"
            ]
          },
          "execution_count": 328,
          "metadata": {},
          "output_type": "execute_result"
        }
      ],
      "source": [
        "ds.condensed_tree[-5:]"
      ]
    },
    {
      "cell_type": "code",
      "execution_count": null,
      "metadata": {
        "id": "7luVoGmq5quI"
      },
      "outputs": [],
      "source": []
    },
    {
      "cell_type": "code",
      "execution_count": null,
      "metadata": {
        "id": "XWAWoODM5quI"
      },
      "outputs": [],
      "source": []
    },
    {
      "cell_type": "code",
      "execution_count": null,
      "metadata": {
        "id": "1ndnj70o5quJ"
      },
      "outputs": [],
      "source": []
    },
    {
      "cell_type": "code",
      "execution_count": null,
      "metadata": {
        "id": "wu3ocuP95quJ"
      },
      "outputs": [],
      "source": []
    },
    {
      "cell_type": "code",
      "execution_count": null,
      "metadata": {
        "id": "_y2Qq89x5quJ",
        "outputId": "5406f9fb-f23e-440d-9fbe-e43ef28d263c"
      },
      "outputs": [
        {
          "data": {
            "image/png": "[encoded data removed]",
            "text/plain": [
              "<Figure size 640x480 with 1 Axes>"
            ]
          },
          "metadata": {},
          "output_type": "display_data"
        }
      ],
      "source": [
        "#selected_points = [4, 0, 1, 10, 11, 13]\n",
        "selected_points = None\n",
        "if selected_points:\n",
        "    x = X_train[selected_points, 0]\n",
        "    y = X_train[selected_points, 1]\n",
        "else:\n",
        "    x = X_train[:, 0]\n",
        "    y = X_train[:, 1]\n",
        "plt.scatter(x, y)\n",
        "# plt.xlim(0, m)\n",
        "# plt.ylim(0, m)\n",
        "plt.show()"
      ]
    },
    {
      "cell_type": "markdown",
      "metadata": {
        "id": "HS2HX1ug5quJ"
      },
      "source": [
        "## ** Calculations"
      ]
    },
    {
      "cell_type": "code",
      "execution_count": null,
      "metadata": {
        "id": "nyWGgMyn5quJ"
      },
      "outputs": [],
      "source": [
        "elems = list(range(X_train.shape[0]))\n",
        "ds = DisjointSet(elems)"
      ]
    },
    {
      "cell_type": "code",
      "execution_count": null,
      "metadata": {
        "id": "ROBInBm05quJ"
      },
      "outputs": [],
      "source": [
        "ds.build_hierarchy(mst_edges)"
      ]
    },
    {
      "cell_type": "code",
      "execution_count": null,
      "metadata": {
        "id": "a9KaDgHP5quJ",
        "outputId": "69ef658c-2d95-48fd-d705-89487acfea3c"
      },
      "outputs": [
        {
          "data": {
            "text/plain": [
              "[(8, 29, 1.4142135381698608),\n",
              " (3, 8, 1.4142135381698608),\n",
              " (5, 8, 2.0),\n",
              " (0, 3, 2.0),\n",
              " (1, 5, 2.0),\n",
              " (15, 22, 2.2360680103302),\n",
              " (7, 15, 2.2360680103302),\n",
              " (7, 19, 2.2360680103302),\n",
              " (2, 22, 2.2360680103302),\n",
              " (8, 22, 2.2360680103302),\n",
              " (20, 23, 2.2360680103302),\n",
              " (6, 20, 2.2360680103302),\n",
              " (6, 27, 2.2360680103302),\n",
              " (6, 12, 2.8284270763397217),\n",
              " (6, 16, 2.8284270763397217),\n",
              " (24, 25, 2.8284270763397217),\n",
              " (1, 21, 3.0),\n",
              " (12, 26, 3.1622776985168457),\n",
              " (7, 18, 3.1622776985168457),\n",
              " (17, 23, 3.1622776985168457),\n",
              " (9, 29, 3.1622776985168457),\n",
              " (18, 24, 3.1622776985168457),\n",
              " (12, 19, 3.605551242828369),\n",
              " (18, 28, 3.605551242828369),\n",
              " (14, 21, 4.242640495300293),\n",
              " (11, 26, 4.242640495300293),\n",
              " (10, 24, 4.4721360206604),\n",
              " (4, 11, 5.0),\n",
              " (4, 13, 5.0)]"
            ]
          },
          "execution_count": 242,
          "metadata": {},
          "output_type": "execute_result"
        }
      ],
      "source": [
        "mst_edges"
      ]
    },
    {
      "cell_type": "code",
      "execution_count": null,
      "metadata": {
        "id": "MjLza55D5quJ",
        "outputId": "32ba51f8-c24e-4e48-ff8e-06d05ddef945"
      },
      "outputs": [
        {
          "data": {
            "text/plain": [
              "[{'birth': 0.0, 'death': 2.0, 'size': 1, 'parent': 33},\n",
              " {'birth': 0.0, 'death': 2.0, 'size': 1, 'parent': 34},\n",
              " {'birth': 0.0, 'death': 2.2360680103302, 'size': 1, 'parent': 38},\n",
              " {'birth': 0.0, 'death': 1.4142135381698608, 'size': 1, 'parent': 31},\n",
              " {'birth': 0.0, 'death': 5.0, 'size': 1, 'parent': 57},\n",
              " {'birth': 0.0, 'death': 2.0, 'size': 1, 'parent': 32},\n",
              " {'birth': 0.0, 'death': 2.2360680103302, 'size': 1, 'parent': 41},\n",
              " {'birth': 0.0, 'death': 2.2360680103302, 'size': 1, 'parent': 36},\n",
              " {'birth': 0.0, 'death': 5.0, 'size': 1, 'parent': 58},\n",
              " {'birth': 0.0, 'death': 3.1622776985168457, 'size': 1, 'parent': 50},\n",
              " {'birth': 0.0, 'death': 4.4721360206604, 'size': 1, 'parent': 56},\n",
              " {'birth': 0.0, 'death': 4.242640495300293, 'size': 1, 'parent': 55},\n",
              " {'birth': 0.0, 'death': 2.8284270763397217, 'size': 1, 'parent': 43},\n",
              " {'birth': 0.0, 'death': 5.0, 'size': 1, 'parent': 58},\n",
              " {'birth': 0.0, 'death': 4.242640495300293, 'size': 1, 'parent': 54},\n",
              " {'birth': 0.0, 'death': 2.2360680103302, 'size': 1, 'parent': 39},\n",
              " {'birth': 0.0, 'death': 2.8284270763397217, 'size': 1, 'parent': 44},\n",
              " {'birth': 0.0, 'death': 3.1622776985168457, 'size': 1, 'parent': 49},\n",
              " {'birth': 0.0, 'death': 3.1622776985168457, 'size': 1, 'parent': 48},\n",
              " {'birth': 0.0, 'death': 2.2360680103302, 'size': 1, 'parent': 37},\n",
              " {'birth': 0.0, 'death': 3.605551242828369, 'size': 1, 'parent': 52},\n",
              " {'birth': 0.0, 'death': 3.0, 'size': 1, 'parent': 46},\n",
              " {'birth': 0.0, 'death': 2.2360680103302, 'size': 1, 'parent': 35},\n",
              " {'birth': 0.0, 'death': 2.2360680103302, 'size': 1, 'parent': 40},\n",
              " {'birth': 0.0, 'death': 3.1622776985168457, 'size': 1, 'parent': 51},\n",
              " {'birth': 0.0, 'death': 2.8284270763397217, 'size': 1, 'parent': 45},\n",
              " {'birth': 0.0, 'death': 3.1622776985168457, 'size': 1, 'parent': 47},\n",
              " {'birth': 0.0, 'death': 2.2360680103302, 'size': 1, 'parent': 42},\n",
              " {'birth': 0.0, 'death': 3.605551242828369, 'size': 1, 'parent': 53},\n",
              " {'birth': 0.0, 'death': 1.4142135381698608, 'size': 1, 'parent': 30},\n",
              " {'birth': 1.4142135381698608, 'death': inf, 'size': 2, 'parent': None},\n",
              " {'birth': 1.4142135381698608, 'death': inf, 'size': 3, 'parent': None},\n",
              " {'birth': 2.0, 'death': inf, 'size': 4, 'parent': None},\n",
              " {'birth': 2.0, 'death': inf, 'size': 5, 'parent': None},\n",
              " {'birth': 2.0, 'death': inf, 'size': 6, 'parent': None},\n",
              " {'birth': 2.2360680103302, 'death': inf, 'size': 2, 'parent': None},\n",
              " {'birth': 2.2360680103302, 'death': inf, 'size': 3, 'parent': None},\n",
              " {'birth': 2.2360680103302, 'death': inf, 'size': 4, 'parent': None},\n",
              " {'birth': 2.2360680103302, 'death': inf, 'size': 5, 'parent': None},\n",
              " {'birth': 2.2360680103302, 'death': inf, 'size': 11, 'parent': None},\n",
              " {'birth': 2.2360680103302, 'death': inf, 'size': 2, 'parent': None},\n",
              " {'birth': 2.2360680103302, 'death': inf, 'size': 3, 'parent': None},\n",
              " {'birth': 2.2360680103302, 'death': inf, 'size': 4, 'parent': None},\n",
              " {'birth': 2.8284270763397217, 'death': inf, 'size': 5, 'parent': None},\n",
              " {'birth': 2.8284270763397217, 'death': inf, 'size': 6, 'parent': None},\n",
              " {'birth': 2.8284270763397217, 'death': inf, 'size': 2, 'parent': None},\n",
              " {'birth': 3.0, 'death': inf, 'size': 12, 'parent': None},\n",
              " {'birth': 3.1622776985168457, 'death': inf, 'size': 7, 'parent': None},\n",
              " {'birth': 3.1622776985168457, 'death': inf, 'size': 13, 'parent': None},\n",
              " {'birth': 3.1622776985168457, 'death': inf, 'size': 8, 'parent': None},\n",
              " {'birth': 3.1622776985168457, 'death': inf, 'size': 14, 'parent': None},\n",
              " {'birth': 3.1622776985168457, 'death': inf, 'size': 16, 'parent': None},\n",
              " {'birth': 3.605551242828369, 'death': inf, 'size': 24, 'parent': None},\n",
              " {'birth': 3.605551242828369, 'death': inf, 'size': 25, 'parent': None},\n",
              " {'birth': 4.242640495300293, 'death': inf, 'size': 26, 'parent': None},\n",
              " {'birth': 4.242640495300293, 'death': inf, 'size': 27, 'parent': None},\n",
              " {'birth': 4.4721360206604, 'death': inf, 'size': 28, 'parent': None},\n",
              " {'birth': 5.0, 'death': inf, 'size': 29, 'parent': None},\n",
              " {'birth': 5.0, 'death': inf, 'size': 30, 'parent': None}]"
            ]
          },
          "execution_count": 257,
          "metadata": {},
          "output_type": "execute_result"
        }
      ],
      "source": [
        "ds.clusters"
      ]
    },
    {
      "cell_type": "code",
      "execution_count": null,
      "metadata": {
        "id": "LMJyTDL65quJ",
        "outputId": "c0ddfb52-b7ea-4f92-b958-4fffe5ab0bf4"
      },
      "outputs": [
        {
          "data": {
            "image/png": "[encoded data removed]",
            "text/plain": [
              "<Figure size 640x480 with 1 Axes>"
            ]
          },
          "metadata": {},
          "output_type": "display_data"
        }
      ],
      "source": [
        "#selected_points = [4, 0, 1, 10, 11, 13]\n",
        "selected_points = None\n",
        "if selected_points:\n",
        "    x = X_train[selected_points, 0]\n",
        "    y = X_train[selected_points, 1]\n",
        "else:\n",
        "    x = X_train[:, 0]\n",
        "    y = X_train[:, 1]\n",
        "plt.scatter(x, y)\n",
        "# plt.xlim(0, m)\n",
        "# plt.ylim(0, m)\n",
        "plt.show()"
      ]
    },
    {
      "cell_type": "code",
      "execution_count": null,
      "metadata": {
        "id": "H4-y0uLB5quJ",
        "outputId": "d43f8b74-a251-490c-f2bf-87945733d0d6"
      },
      "outputs": [
        {
          "data": {
            "text/plain": [
              "array([[6, 1],\n",
              "       [2, 0],\n",
              "       [0, 7],\n",
              "       [8, 4],\n",
              "       [0, 6],\n",
              "       [3, 9],\n",
              "       [8, 4],\n",
              "       [1, 1],\n",
              "       [9, 6],\n",
              "       [0, 2],\n",
              "       [8, 2],\n",
              "       [0, 6],\n",
              "       [6, 3],\n",
              "       [8, 7],\n",
              "       [7, 2]], dtype=int32)"
            ]
          },
          "execution_count": 162,
          "metadata": {},
          "output_type": "execute_result"
        }
      ],
      "source": [
        "X_train"
      ]
    },
    {
      "cell_type": "code",
      "execution_count": null,
      "metadata": {
        "id": "Cdr4tWEr5quJ",
        "outputId": "3ae37bde-b639-4b2b-b14f-e5bc761d18fb"
      },
      "outputs": [
        {
          "name": "stdout",
          "output_type": "stream",
          "text": [
            "0 -> 0\n",
            "1 -> 1\n",
            "2 -> 2\n",
            "3 -> 3\n",
            "4 -> 4\n",
            "5 -> 5\n",
            "6 -> 6\n",
            "7 -> 7\n",
            "8 -> 8\n",
            "9 -> 9\n"
          ]
        }
      ],
      "source": [
        "nodes = [0, 1, 2, 3, 4, 5, 6, 7, 8, 9]\n",
        "ds = DisjointSet(nodes)\n",
        "print_dict(ds.parent)"
      ]
    },
    {
      "cell_type": "code",
      "execution_count": null,
      "metadata": {
        "id": "8HRaeSAd5quJ",
        "outputId": "967bc13b-b923-472c-cce9-470bd33caa35"
      },
      "outputs": [
        {
          "name": "stdout",
          "output_type": "stream",
          "text": [
            "0 -> 0\n",
            "1 -> 0\n",
            "2 -> 0\n",
            "3 -> 1\n",
            "4 -> 4\n",
            "5 -> 5\n",
            "6 -> 6\n",
            "7 -> 7\n",
            "8 -> 8\n",
            "9 -> 9\n",
            "0 -> 4\n",
            "1 -> 2\n",
            "2 -> 1\n",
            "3 -> 1\n",
            "4 -> 1\n",
            "5 -> 1\n",
            "6 -> 1\n",
            "7 -> 1\n",
            "8 -> 1\n",
            "9 -> 1\n"
          ]
        }
      ],
      "source": [
        "ds.union(0, 2)\n",
        "ds.union(1, 3)\n",
        "ds.union(2, 3)\n",
        "print_dict(ds.parent)\n",
        "print_dict(ds.size)"
      ]
    },
    {
      "cell_type": "code",
      "execution_count": null,
      "metadata": {
        "id": "LOF3E7PI5quJ",
        "outputId": "a12d6e15-6efd-4432-8b2a-a8804d780c23"
      },
      "outputs": [
        {
          "name": "stdout",
          "output_type": "stream",
          "text": [
            "0 -> 0\n",
            "1 -> 0\n",
            "2 -> 0\n",
            "3 -> 0\n",
            "4 -> 4\n",
            "5 -> 5\n",
            "6 -> 6\n",
            "7 -> 7\n",
            "8 -> 8\n",
            "9 -> 9\n"
          ]
        }
      ],
      "source": [
        "for node in nodes:\n",
        "    ds.find(node)\n",
        "print_dict(ds.parent)"
      ]
    },
    {
      "cell_type": "code",
      "execution_count": null,
      "metadata": {
        "id": "4yt6GfD65quJ"
      },
      "outputs": [],
      "source": []
    },
    {
      "cell_type": "code",
      "execution_count": null,
      "metadata": {
        "id": "CD7HHGMH5quJ"
      },
      "outputs": [],
      "source": []
    },
    {
      "cell_type": "markdown",
      "metadata": {
        "id": "D4Cux1sZ5quJ"
      },
      "source": [
        "## ** old works"
      ]
    },
    {
      "cell_type": "code",
      "execution_count": null,
      "metadata": {
        "id": "cU9htZEe5quJ"
      },
      "outputs": [],
      "source": [
        "class DisjointSet:\n",
        "    def __init__(self, n_points):\n",
        "        self.parents = list(range(n_points))\n",
        "        self.clusters_ranks = [0] * n_points\n",
        "        self.clusters_sizes = [1] * n_points\n",
        "        self.merge_events = []\n",
        "        self.clusters_lambdas = defaultdict(list)\n",
        "        self.n_points = n_points\n",
        "        self.cluster_id = n_points  # Start after original points\n",
        "        for i in range(n_points):\n",
        "            self.clusters_lambdas[i].append((float('inf'), None))\n",
        "\n",
        "    def find(self, u):\n",
        "        if self.parents[u] != u:\n",
        "            self.parents[u] = self.find(self.parents[u])\n",
        "        return self.parents[u]\n",
        "\n",
        "    def union(self, root_u, root_v):\n",
        "        if self.clusters_ranks[root_u] < self.clusters_ranks[root_v]:\n",
        "            root_u, root_v = root_v, root_u\n",
        "        self.parents[root_v] = root_u\n",
        "        self.clusters_sizes[root_u] += self.clusters_sizes[root_v]\n",
        "        if self.clusters_ranks[root_u] == self.clusters_ranks[root_v]:\n",
        "            self.clusters_ranks[root_u] += 1\n",
        "        return root_u\n",
        "\n",
        "    def build_hierarchy(self, mst_edges):\n",
        "        active_clusters = set(range(self.n_points))\n",
        "        for u, v, distance in mst_edges:\n",
        "            lambda_val = 1 / distance\n",
        "            root_u, root_v = self.find(u), self.find(v)\n",
        "\n",
        "            if root_u != root_v:\n",
        "                for root in (root_u, root_v):\n",
        "                    if root in active_clusters:\n",
        "                        birth, _ = self.clusters_lambdas[root][-1]\n",
        "                        self.clusters_lambdas[root][-1] = (birth, lambda_val)\n",
        "                        active_clusters.remove(root)\n",
        "\n",
        "                new_root = self.union(root_u, root_v)\n",
        "                new_size = self.clusters_sizes[new_root]\n",
        "                self.clusters_lambdas[new_root].append((lambda_val, float('inf')))\n",
        "                active_clusters.add(new_root)\n",
        "\n",
        "                self.merge_events.append({\n",
        "                    'left': root_u,\n",
        "                    'right': root_v,\n",
        "                    'root': new_root,\n",
        "                    'cluster': self.cluster_id,  # Unique ID\n",
        "                    'lambda_birth': lambda_val,\n",
        "                    'size': new_size\n",
        "                })\n",
        "                self.cluster_id += 1\n",
        "\n",
        "        assert len(active_clusters) == 1\n",
        "        cl_id = active_clusters.pop()\n",
        "        birth, death = self.clusters_lambdas[cl_id][-1]\n",
        "        if death == float('inf'):\n",
        "            self.clusters_lambdas[cl_id][-1] = (birth, 0)\n",
        "\n",
        "\n",
        "    def build_hierarchy(self, mst_edges):\n",
        "        active_clusters = set(range(self.n_points))\n",
        "        for u, v, distance in mst_edges:\n",
        "            lambda_val = 1 / distance\n",
        "            root_u, root_v = self.find(u), self.find(v)\n",
        "\n",
        "            if root_u != root_v:\n",
        "                for root in (root_u, root_v):\n",
        "                    if root in active_clusters:\n",
        "                        birth, _ = self.clusters_lambdas[root][-1]\n",
        "                        self.clusters_lambdas[root][-1] = (birth, lambda_val)\n",
        "                        active_clusters.remove(root)\n",
        "\n",
        "                new_root = self.union(root_u, root_v)\n",
        "                new_size = self.clusters_sizes[new_root]\n",
        "                self.clusters_lambdas[new_root].append((lambda_val, float('inf')))\n",
        "                active_clusters.add(new_root)\n",
        "\n",
        "                self.merge_events.append({\n",
        "                    'left': root_u,\n",
        "                    'right': root_v,\n",
        "                    'root': new_root,\n",
        "                    'cluster_id': self.cluster_id,  # Unique ID\n",
        "                    'lambda_birth': lambda_val,\n",
        "                    'size': new_size\n",
        "                })\n",
        "                self.cluster_id += 1"
      ]
    },
    {
      "cell_type": "code",
      "execution_count": null,
      "metadata": {
        "id": "yR0x_YiK5quK"
      },
      "outputs": [],
      "source": [
        "def condense_and_compute_persistence(merge_events, clusters_lambdas, min_cluster_size):\n",
        "    condensed_tree = []\n",
        "    persistence = {}\n",
        "\n",
        "    for event in merge_events:\n",
        "        cluster_size = event['size']\n",
        "        if cluster_size >= min_cluster_size:\n",
        "            condensed_tree.append(event)\n",
        "            new_cluster = event['cluster']\n",
        "            lambda_birth = event['lambda_birth']\n",
        "            lambda_death = clusters_lambdas[event['root']][-1][1]\n",
        "            persistence[new_cluster] = lambda_birth - lambda_death\n",
        "\n",
        "    return condensed_tree, persistence"
      ]
    },
    {
      "cell_type": "code",
      "execution_count": null,
      "metadata": {
        "id": "5SszP4XF5quK"
      },
      "outputs": [],
      "source": [
        "def select_clusters_eom(self, condensed_tree, persistence):\n",
        "    \"\"\"\n",
        "    Select clusters using Excess of Mass method.\n",
        "    \"\"\"\n",
        "    selected_clusters = set()\n",
        "    cluster_children = {}\n",
        "\n",
        "    # Build parent-child relationships\n",
        "    for event in condensed_tree:\n",
        "        parent = event['cluster']\n",
        "        cluster_children[parent] = [event['left'], event['right']]\n",
        "\n",
        "    root = condensed_tree[-1]['cluster'] if condensed_tree else None\n",
        "    if not root:\n",
        "        return selected_clusters\n",
        "\n",
        "    def evaluate_cluster(cid):\n",
        "        children = cluster_children.get(cid, [])\n",
        "        if not children:  # Leaf\n",
        "            if cid in persistence:\n",
        "                selected_clusters.add(cid)\n",
        "                return persistence.get(cid, 0)\n",
        "            return 0\n",
        "\n",
        "        my_persistence = persistence.get(cid, 0)\n",
        "        children_persistence = sum(evaluate_cluster(child) for child in children)\n",
        "\n",
        "        if my_persistence >= children_persistence:\n",
        "            selected_clusters.add(cid)\n",
        "            return my_persistence\n",
        "        return children_persistence\n",
        "\n",
        "    evaluate_cluster(root)\n",
        "    return selected_clusters"
      ]
    },
    {
      "cell_type": "code",
      "execution_count": null,
      "metadata": {
        "id": "Yfyx9Mz35quK"
      },
      "outputs": [],
      "source": []
    },
    {
      "cell_type": "code",
      "execution_count": null,
      "metadata": {
        "id": "w4GkhUCA5quK"
      },
      "outputs": [],
      "source": []
    },
    {
      "cell_type": "code",
      "execution_count": null,
      "metadata": {
        "id": "wRtUR4fQ5quK"
      },
      "outputs": [],
      "source": [
        "# version 1\n",
        "class DisjointSet:\n",
        "    def __init__(self, n_points):\n",
        "        self.parents = list(range(n_points))\n",
        "        # For Union-Find optimization (tree height)\n",
        "        self.clusters_ranks = [0] * n_points\n",
        "        # Track size of each cluster\n",
        "        self.clusters_sizes = [1] * n_points\n",
        "        # Store hierarchy steps\n",
        "        self.merge_events = []\n",
        "\n",
        "        # Track active clusters and their lambda ranges\n",
        "        self.clusters_lambdas = defaultdict(list)  # {cluster_id: [(lambda_birth, lambda_death), ...]}\n",
        "        self.n_points = n_points\n",
        "\n",
        "        # Initialize singletons with infinite birth (they \"exist\" until first merge)\n",
        "        for i in range(n_points):\n",
        "            # None until death known\n",
        "            self.clusters_lambdas[i].append((float('inf'), None))\n",
        "\n",
        "    def find(self, u):\n",
        "        if self.parents[u] != u:\n",
        "            self.parents[u] = self.find(self.parents[u])  # Path compression\n",
        "        return self.parents[u]\n",
        "\n",
        "    def union(self, root_u, root_v):\n",
        "        if self.clusters_ranks[root_u] < self.clusters_ranks[root_v]:\n",
        "            root_u, root_v = root_v, root_u\n",
        "        self.parents[root_v] = root_u\n",
        "        # Update size\n",
        "        self.clusters_sizes[root_u] += self.clusters_sizes[root_v]\n",
        "        # Rank increases only if equal height\n",
        "        if self.clusters_ranks[root_u] == self.clusters_ranks[root_v]:\n",
        "            self.clusters_ranks[root_u] += 1\n",
        "        return root_u\n",
        "\n",
        "    def build_hierarchy(self, mst_edges):\n",
        "        \"\"\"\n",
        "        Build hierarchy from MST\n",
        "        Args:\n",
        "            mst_edges: List of [(u, v, distance), ...] sorted by increasing distance\n",
        "        \"\"\"\n",
        "        # Start assigning new IDs after original points\n",
        "        cluster_id = self.n_points\n",
        "        # Initially, each point is a cluster\n",
        "        active_clusters = set(range(self.n_points))\n",
        "\n",
        "        # Process MST edges in order of increasing distance\n",
        "        for u, v, distance in mst_edges:\n",
        "            # Lambda = inverse of distance\n",
        "            lambda_val = 1 / distance\n",
        "            root_u, root_v = self.find(u), self.find(v)\n",
        "\n",
        "            if root_u != root_v:\n",
        "                # Record the death of smaller clusters\n",
        "                if root_u in active_clusters:\n",
        "                    birth, _ = self.clusters_lambdas[root_u][-1]\n",
        "                    # Death at this lambda\n",
        "                    self.clusters_lambdas[root_u][-1] = (birth, lambda_val)\n",
        "                    active_clusters.remove(root_u)\n",
        "                if root_v in active_clusters:\n",
        "                    birth, _ = self.clusters_lambdas[root_v][-1]\n",
        "                    # Death at this lambda\n",
        "                    self.clusters_lambdas[root_v][-1] = (birth, lambda_val)\n",
        "                    active_clusters.remove(root_v)\n",
        "\n",
        "                # Merge clusters\n",
        "                new_root = self.union(root_u, root_v)\n",
        "                new_size = self.clusters_sizes[new_root]\n",
        "\n",
        "                # Birth of new cluster\n",
        "                self.clusters_lambdas[new_root].append((lambda_val, float('inf')))  # Birth at this lambda\n",
        "                active_clusters.add(new_root)\n",
        "\n",
        "                # Log merge event\n",
        "                self.merge_events.append({\n",
        "                    'left': root_u,\n",
        "                    'right': root_v,\n",
        "                    'root': new_root,\n",
        "                    'cluster_id': cluster_id,\n",
        "                    'lambda_birth': lambda_val,\n",
        "                    'size': new_size\n",
        "                })\n",
        "                cluster_id += 1\n",
        "\n",
        "        # Finalize lambda ranges for remaining clusters\n",
        "        for cl_id in active_clusters:\n",
        "            cl_lambdas = self.clusters_lambdas.get(cl_id)\n",
        "            if cl_lambdas:\n",
        "                birth, death = cl_lambdas[-1]\n",
        "                if death == float('inf'):\n",
        "                    # Death at lambda=0\n",
        "                    self.clusters_lambdas[cl_id][-1] = (birth, 0)\n",
        "\n",
        "    def condense_and_compute_persistence(self):\n",
        "        \"\"\"\n",
        "        Condense hierarchy and compute persistence for significant clusters.\n",
        "        \"\"\"\n",
        "        self.condensed_tree = []\n",
        "        self.persistence = {}\n",
        "        # Track clusters already processed for persistence\n",
        "\n",
        "        for event in self.merge_events:\n",
        "            cluster_size = event['size']\n",
        "\n",
        "            # Include in condensed tree if the new cluster is significant\n",
        "            if cluster_size >= min_cluster_size:\n",
        "                # Compute persistence only once per significant cluster\n",
        "                cluster_id = event['cluster_id']\n",
        "                # First birth when it becomes significant\n",
        "                lambda_birth = event['lambda_birth']\n",
        "                # Final death from clusters_lambdas\n",
        "                root = event['root']\n",
        "                lambda_death = self.clusters_lambdas[root][-1][1]\n",
        "                self.persistence[cluster_id] = lambda_birth - lambda_death\n",
        "                # add to condence tree\n",
        "                self.condensed_tree.append(event)\n",
        "\n",
        "    def select_clusters_eom(self):\n",
        "        \"\"\"\n",
        "        Select clusters using Excess of Mass method.\n",
        "\n",
        "        Returns:\n",
        "            selected_clusters: Set of cluster IDs in the final clustering\n",
        "        \"\"\"\n",
        "        selected_clusters = set()\n",
        "        cluster_children = {}  # Map parent to children\n",
        "\n",
        "        # Build parent-child relationships (reverse hierarchy)\n",
        "        for event in self.condensed_tree:\n",
        "            cluster_id = event['cluster_id']\n",
        "            cluster_children[cluster_id] = [event['left'], event['right']]\n",
        "\n",
        "        # Start from the root (last event's new_cluster)\n",
        "        root = self.condensed_tree[-1]['cluster_id'] if self.condensed_tree else None\n",
        "        if not root:\n",
        "            return selected_clusters\n",
        "\n",
        "        def evaluate_cluster(cl_id):\n",
        "            children = cluster_children.get(cl_id, [])\n",
        "            if not children:\n",
        "                if cl_id in self.persistence:\n",
        "                    selected_clusters.add(cl_id)\n",
        "                    return self.persistence.get(cl_id, 0)\n",
        "                return 0\n",
        "\n",
        "            my_persistence = self.persistence.get(cl_id, 0)\n",
        "            children_persistence = sum(evaluate_cluster(child) for child in children)\n",
        "            if my_persistence >= children_persistence:\n",
        "                selected_clusters.add(cl_id)\n",
        "                return my_persistence\n",
        "            return children_persistence  # Split into children\n",
        "\n",
        "        evaluate_cluster(root)\n",
        "        return selected_clusters"
      ]
    },
    {
      "cell_type": "code",
      "execution_count": null,
      "metadata": {
        "id": "IkAAJ7VG5quK"
      },
      "outputs": [],
      "source": [
        "# version 0\n",
        "class DisjointSet:\n",
        "    def __init__(self, n_points):\n",
        "        self.parents = list(range(n_points))\n",
        "        # For Union-Find optimization (tree height)\n",
        "        self.clusters_ranks = [0] * n_points\n",
        "        # Track size of each cluster\n",
        "        self.clusters_sizes = [1] * n_points\n",
        "        # Store hierarchy steps\n",
        "        self.merge_events = []\n",
        "\n",
        "        # Track active clusters and their lambda ranges\n",
        "        self.clusters_lambdas = defaultdict(list)  # {cluster_id: [(lambda_birth, lambda_death), ...]}\n",
        "        self.n_points = n_points\n",
        "\n",
        "        # Initialize singletons with infinite birth (they \"exist\" until first merge)\n",
        "        for i in range(n_points):\n",
        "            # None until death known\n",
        "            self.clusters_lambdas[i].append((float('inf'), None))\n",
        "\n",
        "    def find(self, u):\n",
        "        if self.parents[u] != u:\n",
        "            self.parents[u] = self.find(self.parents[u])  # Path compression\n",
        "        return self.parents[u]\n",
        "\n",
        "    def union(self, root_u, root_v):\n",
        "        if self.clusters_ranks[root_u] < self.clusters_ranks[root_v]:\n",
        "            root_u, root_v = root_v, root_u\n",
        "        self.parents[root_v] = root_u\n",
        "        # Update size\n",
        "        self.clusters_sizes[root_u] += self.clusters_sizes[root_v]\n",
        "        # Rank increases only if equal height\n",
        "        if self.clusters_ranks[root_u] == self.clusters_ranks[root_v]:\n",
        "            self.clusters_ranks[root_u] += 1\n",
        "        return root_u\n",
        "\n",
        "    def build_hierarchy(self, mst_edges):\n",
        "        \"\"\"\n",
        "        Build hierarchy from MST\n",
        "        Args:\n",
        "            mst_edges: List of [(u, v, distance), ...] sorted by increasing distance\n",
        "        \"\"\"\n",
        "        # Start assigning new IDs after original points\n",
        "        # cluster_id = self.n_points\n",
        "        # Initially, each point is a cluster\n",
        "        active_clusters = set(range(self.n_points))\n",
        "\n",
        "        # Process MST edges in order of increasing distance\n",
        "        for u, v, distance in mst_edges:\n",
        "            # Lambda = inverse of distance\n",
        "            lambda_val = 1 / distance\n",
        "            root_u, root_v = self.find(u), self.find(v)\n",
        "\n",
        "            if root_u != root_v:\n",
        "                # Record the death of smaller clusters\n",
        "                if root_u in active_clusters:\n",
        "                    birth, _ = self.clusters_lambdas[root_u][-1]\n",
        "                    # Death at this lambda\n",
        "                    self.clusters_lambdas[root_u][-1] = (birth, lambda_val)\n",
        "                    active_clusters.remove(root_u)\n",
        "                if root_v in active_clusters:\n",
        "                    birth, _ = self.clusters_lambdas[root_v][-1]\n",
        "                    # Death at this lambda\n",
        "                    self.clusters_lambdas[root_v][-1] = (birth, lambda_val)\n",
        "                    active_clusters.remove(root_v)\n",
        "\n",
        "                # Merge clusters\n",
        "                new_root = self.union(root_u, root_v)\n",
        "                new_size = self.clusters_sizes[new_root]\n",
        "\n",
        "                # Birth of new cluster\n",
        "                self.clusters_lambdas[new_root].append((lambda_val, float('inf')))  # Birth at this lambda\n",
        "                active_clusters.add(new_root)\n",
        "\n",
        "                # Log merge event\n",
        "                self.merge_events.append({\n",
        "                    'left': root_u,\n",
        "                    'right': root_v,\n",
        "                    'cluster': new_root,\n",
        "                    'lambda_birth': lambda_val,\n",
        "                    'size': new_size\n",
        "                })\n",
        "                # cluster_id += 1\n",
        "\n",
        "        # Finalize lambda ranges for remaining clusters\n",
        "        for cl_id in active_clusters:\n",
        "            cl_lambdas = self.clusters_lambdas.get(cl_id)\n",
        "            if cl_lambdas:\n",
        "                birth, death = cl_lambdas[-1]\n",
        "                if death == float('inf'):\n",
        "                    # Death at lambda=0\n",
        "                    self.clusters_lambdas[cl_id][-1] = (birth, 0)"
      ]
    },
    {
      "cell_type": "code",
      "execution_count": null,
      "metadata": {
        "id": "bWXrF-ba5quK"
      },
      "outputs": [],
      "source": [
        "def select_clusters_eom(condensed_tree, persistence):\n",
        "    \"\"\"\n",
        "    Select clusters using Excess of Mass method.\n",
        "\n",
        "    Returns:\n",
        "        selected_clusters: Set of cluster IDs in the final clustering\n",
        "    \"\"\"\n",
        "    selected_clusters = set()\n",
        "    cluster_children = {}  # Map parent to children\n",
        "\n",
        "    # Build parent-child relationships (reverse hierarchy)\n",
        "    for event in condensed_tree:\n",
        "        cluster_id = event['cluster_id']\n",
        "        cluster_children[cluster_id] = [event['left'], event['right']]\n",
        "\n",
        "    # Start from the root (last event's new_cluster)\n",
        "    root = condensed_tree[-1]['cluster'] if condensed_tree else None\n",
        "    if not root:\n",
        "        return selected_clusters\n",
        "\n",
        "    def evaluate_cluster(cl_id):\n",
        "        if cl_id not in persistence:  # Leaf or insignificant\n",
        "            return 0\n",
        "        my_persistence = persistence.get(cid, 0)\n",
        "\n",
        "\n",
        "        children = cluster_children.get(cl_id, [])\n",
        "        if not children:\n",
        "            if cl_id in persistence\n",
        "        children_persistence = sum(evaluate_cluster(child) for child in children)\n",
        "        if my_persistence >= children_persistence:\n",
        "            selected_clusters.add(cid)\n",
        "            return my_persistence\n",
        "        return children_persistence  # Split into children\n",
        "\n",
        "    evaluate_cluster(root)\n",
        "    return selected_clusters"
      ]
    },
    {
      "cell_type": "code",
      "execution_count": null,
      "metadata": {
        "id": "hHJcKBHm5quK"
      },
      "outputs": [],
      "source": [
        "# Example usage\n",
        "mst = [(0, 1, 1.0), (1, 2, 1.5), (3, 4, 2.0), (2, 3, 2.5)]\n",
        "ds = DisjointSet(5)\n",
        "ds.build_hierarchy(mst)\n",
        "\n",
        "# Print results\n",
        "print(\"Merge Events:\")\n",
        "for event in ds.merge_events:\n",
        "    print(event)\n",
        "print(\"\\nCluster Lambda Ranges:\")\n",
        "for cid, ranges in ds.clusters_lambdas.items():\n",
        "    if ranges and ranges[0][1] is not None:  # Include clusters with defined death\n",
        "        print(f\"Cluster {cid}: {ranges}\")"
      ]
    },
    {
      "cell_type": "code",
      "execution_count": null,
      "metadata": {
        "id": "bzrpVAPD5quK"
      },
      "outputs": [],
      "source": []
    },
    {
      "cell_type": "code",
      "execution_count": null,
      "metadata": {
        "id": "x7bjeSfm5quK"
      },
      "outputs": [],
      "source": [
        "# Assume you have a list of MST edges, where each edge is a tuple (u, v, weight)\n",
        "# and `num_points` is the total number of data points.\n",
        "def build_dendrogram(mst_edges, num_points):\n",
        "    # Sort the MST edges by increasing weight (or increasing lambda if using 1/weight)\n",
        "    #mst_edges = sorted(mst_edges, key=lambda edge: edge[2])\n",
        "\n",
        "    # Each point starts as a separate dendrogram node (leaf)\n",
        "    nodes = {i: DendrogramNode(points=[i]) for i in range(num_points)}\n",
        "\n",
        "    # We'll also use a union-find structure to track which cluster each point belongs to.\n",
        "    # Extend the basic union-find to also map cluster representatives to dendrogram nodes.\n",
        "    ds = DisjointSet(range(num_points))\n",
        "    cluster_nodes = {i: nodes[i] for i in range(num_points)}\n",
        "\n",
        "    # Process each edge to merge clusters\n",
        "    for u, v, weight in mst_edges:\n",
        "        rep_u = ds.find(u)\n",
        "        rep_v = ds.find(v)\n",
        "        if rep_u != rep_v:\n",
        "            # Create a new dendrogram node that represents the merge of two clusters\n",
        "            merged_points = cluster_nodes[rep_u].points + cluster_nodes[rep_v].points\n",
        "            new_node = DendrogramNode(left=cluster_nodes[rep_u],\n",
        "                                      right=cluster_nodes[rep_v],\n",
        "                                      merge_distance=weight,\n",
        "                                      points=merged_points)\n",
        "            # Merge clusters in the union-find structure\n",
        "            new_rep = ds.union(rep_u, rep_v)  # new representative after union\n",
        "            cluster_nodes[new_rep] = new_node\n",
        "\n",
        "    # At the end, there should be a single cluster containing all points.\n",
        "    # We return the dendrogram root.\n",
        "    root = cluster_nodes[ds.find(0)]\n",
        "    return root\n"
      ]
    },
    {
      "cell_type": "code",
      "execution_count": null,
      "metadata": {
        "id": "c7kscqz_5quK"
      },
      "outputs": [],
      "source": [
        "class DisjointSet:\n",
        "    def __init__(self, elems):\n",
        "        self.elems = elems\n",
        "        self.parent = {}\n",
        "        self.size = {}\n",
        "        for elem in elems:\n",
        "            self.make_set(elem)\n",
        "\n",
        "    def make_set(self, x):\n",
        "        self.parent[x] = x\n",
        "        self.size[x] = 1\n",
        "\n",
        "    def find(self, x):\n",
        "        if self.parent[x] == x:\n",
        "            return x\n",
        "        else:\n",
        "            self.parent[x] = self.find(self.parent[x])\n",
        "            return self.parent[x]\n",
        "\n",
        "    def union(self, x, y):\n",
        "        root_x = self.find(x)\n",
        "        root_y = self.find(y)\n",
        "        if root_x == root_y:\n",
        "            return\n",
        "        elif self.size[root_x] < self.size[root_y]:\n",
        "            self.parent[root_x] = root_y\n",
        "            self.size[root_y] += self.size[root_x]\n",
        "        else:\n",
        "            self.parent[root_y] = root_x\n",
        "            self.size[root_x] += self.size[root_y]"
      ]
    },
    {
      "cell_type": "code",
      "execution_count": null,
      "metadata": {
        "id": "uExcGPO45quK"
      },
      "outputs": [],
      "source": []
    }
  ],
  "metadata": {
    "kernelspec": {
      "display_name": "shared_env",
      "language": "python",
      "name": "python3"
    },
    "language_info": {
      "codemirror_mode": {
        "name": "ipython",
        "version": 3
      },
      "file_extension": ".py",
      "mimetype": "text/x-python",
      "name": "python",
      "nbconvert_exporter": "python",
      "pygments_lexer": "ipython3",
      "version": "3.11.7"
    },
    "colab": {
      "provenance": []
    }
  },
  "nbformat": 4,
  "nbformat_minor": 0
}